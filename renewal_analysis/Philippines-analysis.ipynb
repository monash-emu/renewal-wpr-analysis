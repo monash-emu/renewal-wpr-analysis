{
 "cells": [
  {
   "cell_type": "raw",
   "id": "213a0a94-33bf-4f48-a2cf-1ba1a5bb9427",
   "metadata": {},
   "source": [
    "---\n",
    "title: \"Philippine analysis\"\n",
    "bibliography: renew.bib\n",
    "format:\n",
    "  docx:\n",
    "    code-fold: true\n",
    "jupyter: python3\n",
    "---"
   ]
  },
  {
   "cell_type": "code",
   "execution_count": null,
   "id": "620edd7f-0d63-4d7e-9de6-4db0a8b984b0",
   "metadata": {},
   "outputs": [],
   "source": [
    "from jax import jit, random\n",
    "import pandas as pd\n",
    "from datetime import datetime, timedelta\n",
    "import numpyro\n",
    "from numpyro import distributions as dist\n",
    "from numpyro import infer\n",
    "import arviz as az\n",
    "from IPython.display import Markdown\n",
    "from plotly.express.colors import qualitative as qual_colours\n",
    "from pathlib import Path\n",
    "import math\n",
    "import plotly.express as px\n",
    "import plotly.graph_objects as go\n",
    "\n",
    "from estival.sampling import tools as esamp\n",
    "\n",
    "from emu_renewal.process import CosineMultiCurve\n",
    "from emu_renewal.distributions import GammaDens\n",
    "from emu_renewal.renew import RenewalModel\n",
    "from emu_renewal.outputs import get_spaghetti_from_params, get_quant_df_from_spaghetti, plot_spaghetti\n",
    "from emu_renewal.outputs import plot_uncertainty_patches, PANEL_SUBTITLES, plot_3d_spaghetti, plot_post_prior_comparison\n",
    "from emu_renewal.calibration import StandardCalib\n",
    "from emu_renewal.utils import get_adjust_idata_index, adjust_summary_cols\n",
    "\n",
    "from plotting import plot_main\n",
    "from utils import load_target_data, load_mobility_data, load_vaccination_data, load_variant_prevalence_data"
   ]
  },
  {
   "cell_type": "code",
   "execution_count": null,
   "id": "a0a734ae-3ec3-4d58-9f5a-61cffbd47177",
   "metadata": {},
   "outputs": [],
   "source": [
    "# Set country\n",
    "country = 'Philippines'"
   ]
  },
  {
   "cell_type": "code",
   "execution_count": null,
   "id": "522d03e7-c7b6-4dac-a07d-3096fe401d7d",
   "metadata": {},
   "outputs": [],
   "source": [
    "# load data\n",
    "target_data = load_target_data(country)\n",
    "mobility_data = load_mobility_data(country)\n",
    "vaccination_data = load_vaccination_data(country)\n",
    "variant_data = load_variant_prevalence_data(country)"
   ]
  },
  {
   "cell_type": "code",
   "execution_count": null,
   "id": "a20aa476-67be-455d-ad00-f848d7bcac6f",
   "metadata": {},
   "outputs": [],
   "source": [
    "# Specify fixed parameters and get calibration data\n",
    "proc_update_freq = 21\n",
    "init_time = 50\n",
    "data = target_data\n",
    "pop = 116e6\n",
    "analysis_start = datetime(2021, 5, 1)\n",
    "analysis_end = datetime(2022, 4, 30)\n",
    "init_start = analysis_start - timedelta(init_time)\n",
    "init_end = analysis_start - timedelta(1)\n",
    "select_data = data.loc[analysis_start: analysis_end]\n",
    "init_data = data.resample(\"D\").asfreq().interpolate().loc[init_start: init_end] / 7.0"
   ]
  },
  {
   "cell_type": "code",
   "execution_count": null,
   "id": "6c474089-729c-4495-be21-0e187a26d3ac",
   "metadata": {},
   "outputs": [],
   "source": [
    "# Define renewal model and proc update fitting method\n",
    "proc_fitter = CosineMultiCurve()\n",
    "renew_model = RenewalModel(pop, analysis_start, analysis_end, proc_update_freq, proc_fitter, GammaDens(), init_time, init_data, GammaDens())"
   ]
  },
  {
   "cell_type": "code",
   "execution_count": null,
   "id": "a10524aa-8a7c-49bf-b6c5-9e4ca02fae71",
   "metadata": {},
   "outputs": [],
   "source": [
    "# Define priors for calibrated parameter\n",
    "priors = {\n",
    "    \"gen_mean\": dist.TruncatedNormal(7.3, 0.5, low=1.0),\n",
    "    \"gen_sd\": dist.TruncatedNormal(3.8, 0.5, low=1.0),\n",
    "    \"cdr\": dist.Beta(16, 40), #16, 40\n",
    "    \"rt_init\": dist.Normal(0.0, 0.25),\n",
    "    \"report_mean\": dist.TruncatedNormal(8, 0.5, low=1.0),\n",
    "    \"report_sd\": dist.TruncatedNormal(3, 0.5, low=1.0),\n",
    "    \"prop_immune\": dist.Beta(8, 10) #8, 10\n",
    "}"
   ]
  },
  {
   "cell_type": "code",
   "execution_count": null,
   "id": "eeccf64e-d477-4243-be73-3781f860619f",
   "metadata": {},
   "outputs": [],
   "source": [
    "# Run calibration - fitting to weekly cases\n",
    "calib = StandardCalib(renew_model, priors, select_data, indicator='weekly_sum')\n",
    "kernel = infer.NUTS(calib.calibration, dense_mass=True, init_strategy=infer.init_to_uniform(radius=0.5))\n",
    "mcmc = infer.MCMC(kernel, num_chains=4, num_samples=4000, num_warmup=500)\n",
    "mcmc.run(random.PRNGKey(1))"
   ]
  },
  {
   "cell_type": "code",
   "execution_count": null,
   "id": "1c161288",
   "metadata": {},
   "outputs": [],
   "source": [
    "idata = az.from_dict(mcmc.get_samples(True))\n",
    "idata_sampled = az.extract(idata, num_samples=800)\n",
    "sample_params = esamp.xarray_to_sampleiterator(idata_sampled)"
   ]
  },
  {
   "cell_type": "code",
   "execution_count": null,
   "id": "5c095fb7",
   "metadata": {},
   "outputs": [],
   "source": [
    "def get_full_result(gen_mean, gen_sd, proc, cdr, rt_init, report_mean, report_sd, prop_immune):\n",
    "    return renew_model.renewal_func(gen_mean, gen_sd, proc, cdr, rt_init, report_mean, report_sd, prop_immune)\n",
    "\n",
    "full_wrap = jit(get_full_result)\n",
    "panel_subtitles = [\"weekly_sum\"] + PANEL_SUBTITLES[1:]\n",
    "spaghetti = get_spaghetti_from_params(renew_model, sample_params, full_wrap, outputs=panel_subtitles)\n",
    "quantiles_df = get_quant_df_from_spaghetti(renew_model, spaghetti, quantiles=[0.05, 0.5, 0.95], outputs=panel_subtitles)"
   ]
  },
  {
   "cell_type": "code",
   "execution_count": null,
   "id": "b8c08ab3-3974-40ec-b3dd-e2ac40886c84",
   "metadata": {},
   "outputs": [],
   "source": [
    "# Restrict range of mobility and vax data to analysis timeframe\n",
    "mobility_data = mobility_data.loc[analysis_start:analysis_end]\n",
    "vaccination_data = vaccination_data.loc[analysis_start:analysis_end]"
   ]
  },
  {
   "cell_type": "code",
   "execution_count": null,
   "id": "209498b8-266f-402e-9553-caedc7c784a5",
   "metadata": {},
   "outputs": [],
   "source": [
    "fig = plot_main(quantiles_df, select_data, mobility_data, vaccination_data).update_layout(showlegend=False)\n",
    "\n",
    "# Add interventions and variant prevalence to plots\n",
    "number = 2\n",
    "for i in range(number):\n",
    "    \n",
    "    delta = variant_data[variant_data['variant'] == 'Delta']\n",
    "    delta_week = delta['week'].to_string(index=False)\n",
    "    fig.add_vline(x=datetime.strptime(delta_week, \"%Y-%m-%d\").timestamp() * 1000, \n",
    "              annotation_text=\"Delta >50%\", annotation_position=\"bottom right\", row=1, col=i+1, line_dash=\"dash\")\n",
    "    \n",
    "    omicron = variant_data[variant_data['variant'] == 'Omicron_BA1_2']\n",
    "    omicron_week = omicron['week'].to_string(index=False)\n",
    "    fig.add_vline(x=datetime.strptime(omicron_week, \"%Y-%m-%d\").timestamp() * 1000, \n",
    "              annotation_text=\"Omicron >50%\", annotation_position=\"bottom right\", row=1, col=i+1, line_dash=\"dash\")\n",
    "\n",
    "fig['layout']['xaxis5']['title']='Date'\n",
    "fig['layout']['xaxis6']['title']='Date'\n",
    "fig['layout']['yaxis']['title']='Weekly reported cases'\n",
    "fig['layout']['yaxis2']['title']=''\n",
    "fig['layout']['yaxis3']['title']='Total persons susceptible'\n",
    "fig['layout']['yaxis4']['title']='' \n",
    "fig['layout']['yaxis5']['title']='% change from baseline'\n",
    "fig['layout']['yaxis6']['title']='% total population' \n",
    "\n",
    "fig.show()"
   ]
  },
  {
   "cell_type": "code",
   "execution_count": null,
   "id": "f8a6c65a-1fc3-4991-86fa-e0b20750ca6b",
   "metadata": {},
   "outputs": [],
   "source": [
    "# Quick code for exploring quantiles\n",
    "print(quantiles_df.loc['2021-12-20':'2022-1-10'])"
   ]
  },
  {
   "cell_type": "code",
   "execution_count": null,
   "id": "3f6daf6f-f469-4d66-b141-29ab466eeac1",
   "metadata": {},
   "outputs": [],
   "source": [
    "# quick code for calculating final attack rate\n",
    "suscepts = quantiles_df['susceptibles']\n",
    "suscepts['AR_05'] = 1 - suscepts[0.05]/pop\n",
    "suscepts['AR_5'] = 1 - suscepts[0.50]/pop\n",
    "suscepts['AR_95'] = 1- suscepts[0.95]/pop"
   ]
  },
  {
   "cell_type": "code",
   "execution_count": null,
   "id": "dd71155b-f971-4196-93ee-33082ef14eda",
   "metadata": {},
   "outputs": [],
   "source": [
    "suscepts.tail(5)"
   ]
  },
  {
   "cell_type": "code",
   "execution_count": null,
   "id": "ed083279-697f-4f96-b94c-56de13342757",
   "metadata": {},
   "outputs": [],
   "source": [
    "Markdown(renew_model.get_description())"
   ]
  },
  {
   "cell_type": "code",
   "execution_count": null,
   "id": "391e97fd-e1cc-4f5b-aa48-c32d3fa67da7",
   "metadata": {},
   "outputs": [],
   "source": [
    "Markdown(calib.get_description())"
   ]
  },
  {
   "cell_type": "code",
   "execution_count": null,
   "id": "49e66dcc",
   "metadata": {},
   "outputs": [],
   "source": [
    "az.summary(idata)"
   ]
  },
  {
   "cell_type": "code",
   "execution_count": null,
   "id": "089bf66f",
   "metadata": {},
   "outputs": [],
   "source": [
    "plot_post_prior_comparison(idata, list(priors.keys()), priors);"
   ]
  },
  {
   "cell_type": "code",
   "execution_count": null,
   "id": "a23d8a73-6408-4f08-b807-1a2e39f333bd",
   "metadata": {},
   "outputs": [],
   "source": [
    "## second model with different priors"
   ]
  },
  {
   "cell_type": "code",
   "execution_count": null,
   "id": "bbe72304-aace-43d8-88e9-2792aff77337",
   "metadata": {},
   "outputs": [],
   "source": [
    "# Define parameter ranges\n",
    "priors_2 = {\n",
    "    \"gen_mean\": dist.TruncatedNormal(7.3, 0.5, low=1.0),\n",
    "    \"gen_sd\": dist.TruncatedNormal(3.8, 0.5, low=1.0),\n",
    "    \"cdr\": dist.Beta(4, 10),\n",
    "    \"rt_init\": dist.Normal(0.0, 0.25),\n",
    "    \"report_mean\": dist.TruncatedNormal(8, 0.5, low=1.0),\n",
    "    \"report_sd\": dist.TruncatedNormal(3, 0.5, low=1.0),\n",
    "    \"prop_immune\": dist.Uniform(0.35, 0.55)\n",
    "}"
   ]
  }
 ],
 "metadata": {
  "kernelspec": {
   "display_name": "wpr-renewal",
   "language": "python",
   "name": "wpr-renewal"
  },
  "language_info": {
   "codemirror_mode": {
    "name": "ipython",
    "version": 3
   },
   "file_extension": ".py",
   "mimetype": "text/x-python",
   "name": "python",
   "nbconvert_exporter": "python",
   "pygments_lexer": "ipython3",
   "version": "3.10.14"
  }
 },
 "nbformat": 4,
 "nbformat_minor": 5
}
