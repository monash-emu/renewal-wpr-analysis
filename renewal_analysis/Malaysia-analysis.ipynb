{
 "cells": [
  {
   "cell_type": "raw",
   "id": "36cf22a9-52f8-47ef-84ad-750c9e7d2820",
   "metadata": {},
   "source": [
    "---\n",
    "title: \"Malaysia analysis\"\n",
    "bibliography: renew.bib\n",
    "format:\n",
    "  docx:\n",
    "    code-fold: true\n",
    "jupyter: python3\n",
    "---"
   ]
  },
  {
   "cell_type": "code",
   "execution_count": 1,
   "id": "375e03f5-6bc1-4983-8075-45d7d3f5654f",
   "metadata": {},
   "outputs": [],
   "source": [
    "from jax import jit, random\n",
    "import pandas as pd\n",
    "from datetime import datetime, timedelta\n",
    "import numpyro\n",
    "from numpyro import distributions as dist\n",
    "from numpyro import infer\n",
    "import arviz as az\n",
    "from IPython.display import Markdown\n",
    "from plotly.express.colors import qualitative as qual_colours\n",
    "from pathlib import Path\n",
    "import math\n",
    "import plotly.express as px\n",
    "import plotly.graph_objects as go\n",
    "from plotly.subplots import make_subplots\n",
    "from IPython.display import Markdown\n",
    "\n",
    "from estival.sampling import tools as esamp\n",
    "\n",
    "from emu_renewal.process import CosineMultiCurve\n",
    "from emu_renewal.distributions import GammaDens\n",
    "from emu_renewal.renew import RenewalModel\n",
    "from emu_renewal.outputs import get_spaghetti_from_params, get_quant_df_from_spaghetti, plot_spaghetti\n",
    "from emu_renewal.outputs import plot_uncertainty_patches, PANEL_SUBTITLES, plot_3d_spaghetti, plot_post_prior_comparison\n",
    "from emu_renewal.calibration import StandardCalib\n",
    "from emu_renewal.utils import get_adjust_idata_index, adjust_summary_cols\n",
    "\n",
    "from plotting import plot_main\n",
    "from utils import load_target_data, load_mobility_data, load_vaccination_data, load_variant_prevalence_data"
   ]
  },
  {
   "cell_type": "code",
   "execution_count": 2,
   "id": "a0a734ae-3ec3-4d58-9f5a-61cffbd47177",
   "metadata": {},
   "outputs": [],
   "source": [
    "# Set country\n",
    "country = 'Malaysia'"
   ]
  },
  {
   "cell_type": "code",
   "execution_count": 3,
   "id": "9c73f14e-7d6d-4d83-80a0-65ed75af4986",
   "metadata": {},
   "outputs": [],
   "source": [
    "# load data\n",
    "target_data = load_target_data(country)\n",
    "mobility_data = load_mobility_data(country)\n",
    "vaccination_data = load_vaccination_data(country)\n",
    "variant_data = load_variant_prevalence_data(country)"
   ]
  },
  {
   "cell_type": "code",
   "execution_count": 4,
   "id": "a20aa476-67be-455d-ad00-f848d7bcac6f",
   "metadata": {},
   "outputs": [],
   "source": [
    "# Specify fixed parameters and get calibration data\n",
    "proc_update_freq = 21\n",
    "init_time = 50\n",
    "data = target_data\n",
    "pop = 33e6\n",
    "analysis_start = datetime(2021, 5, 1)\n",
    "analysis_end = datetime(2022, 4, 30)\n",
    "init_start = analysis_start - timedelta(init_time)\n",
    "init_end = analysis_start - timedelta(1)\n",
    "select_data = data.loc[analysis_start: analysis_end]\n",
    "init_data = data.resample(\"D\").asfreq().interpolate().loc[init_start: init_end] / 7.0"
   ]
  },
  {
   "cell_type": "code",
   "execution_count": null,
   "id": "6c474089-729c-4495-be21-0e187a26d3ac",
   "metadata": {},
   "outputs": [],
   "source": [
    "proc_fitter = CosineMultiCurve()\n",
    "renew_model = RenewalModel(pop, analysis_start, analysis_end, proc_update_freq, proc_fitter, GammaDens(), init_time, init_data, GammaDens())"
   ]
  },
  {
   "cell_type": "code",
   "execution_count": null,
   "id": "a10524aa-8a7c-49bf-b6c5-9e4ca02fae71",
   "metadata": {},
   "outputs": [],
   "source": [
    "# Define parameter ranges\n",
    "priors = {\n",
    "    \"gen_mean\": dist.TruncatedNormal(7.3, 0.5, low=1.0),\n",
    "    \"gen_sd\": dist.TruncatedNormal(3.8, 0.5, low=1.0),\n",
    "    \"cdr\": dist.Beta(16, 40),\n",
    "    \"rt_init\": dist.Normal(0.0, 0.25),\n",
    "    \"report_mean\": dist.TruncatedNormal(8, 0.5, low=1.0),\n",
    "    \"report_sd\": dist.TruncatedNormal(3, 0.5, low=1.0),\n",
    "    \"prop_immune\": dist.Beta(3, 50)\n",
    "}"
   ]
  },
  {
   "cell_type": "code",
   "execution_count": null,
   "id": "eeccf64e-d477-4243-be73-3781f860619f",
   "metadata": {},
   "outputs": [],
   "source": [
    "#| output: false\n",
    "calib = StandardCalib(renew_model, priors, select_data, indicator='weekly_sum')\n",
    "kernel = infer.NUTS(calib.calibration, dense_mass=True, init_strategy=infer.init_to_uniform(radius=0.5))\n",
    "mcmc = infer.MCMC(kernel, num_chains=4, num_samples=2000, num_warmup=200)\n",
    "mcmc.run(random.PRNGKey(1))"
   ]
  },
  {
   "cell_type": "code",
   "execution_count": null,
   "id": "48b48eef",
   "metadata": {},
   "outputs": [],
   "source": [
    "idata = az.from_dict(mcmc.get_samples(True))\n",
    "idata_sampled = az.extract(idata, num_samples=800)\n",
    "sample_params = esamp.xarray_to_sampleiterator(idata_sampled)"
   ]
  },
  {
   "cell_type": "code",
   "execution_count": null,
   "id": "3c511019-2a21-4452-afc2-e02e1c4a26f0",
   "metadata": {},
   "outputs": [],
   "source": [
    "# get model results and outputs\n",
    "def get_full_result(gen_mean, gen_sd, proc, cdr, rt_init, report_mean, report_sd, prop_immune):\n",
    "    return renew_model.renewal_func(gen_mean, gen_sd, proc, cdr, rt_init, report_mean, report_sd, prop_immune)\n",
    "\n",
    "full_wrap = jit(get_full_result)\n",
    "panel_subtitles = [\"weekly_sum\"] + PANEL_SUBTITLES[1:]\n",
    "spaghetti = get_spaghetti_from_params(renew_model, sample_params, full_wrap, outputs=panel_subtitles)\n",
    "quantiles_df = get_quant_df_from_spaghetti(renew_model, spaghetti, quantiles=[0.05, 0.5, 0.95], outputs=panel_subtitles)"
   ]
  },
  {
   "cell_type": "code",
   "execution_count": null,
   "id": "f93eab4b-9060-4b53-ac59-a3e9d3c29454",
   "metadata": {},
   "outputs": [],
   "source": [
    "# Restrict range of mobility and vax data to analysis timeframe\n",
    "mobility_data = mobility_data.loc[analysis_start:analysis_end]\n",
    "vaccination_data = vaccination_data.loc[analysis_start:analysis_end]"
   ]
  },
  {
   "cell_type": "code",
   "execution_count": null,
   "id": "f665c95e-a66f-40b3-83d8-fa0bad1be920",
   "metadata": {},
   "outputs": [],
   "source": [
    "def plot(model_data, case_data):\n",
    "    case_index = case_data.index\n",
    "    cases = case_data\n",
    "     \n",
    "    # Define elements needed to add median line plots\n",
    "    model_index = model_data.index\n",
    "    weekly_median = model_data[\"weekly_sum\"][0.50]\n",
    "    rt_median = model_data[\"R\"][0.50]\n",
    "    suscept_median = model_data[\"susceptibles\"][0.50]\n",
    "    transmission_median = model_data[\"transmission potential\"][0.50]\n",
    "    \n",
    "    \n",
    "    # Define elements needed for uncertainty plots\n",
    "    x_vals = model_data.index.to_list() + model_data.index[::-1].to_list()\n",
    "    y_vals_weekly = model_data[\"weekly_sum\"][0.05].to_list() + model_data[\"weekly_sum\"][0.95][::-1].to_list()\n",
    "    y_vals_R = model_data[\"R\"][0.05].to_list() + model_data[\"R\"][0.95][::-1].to_list()\n",
    "    y_vals_suscept = model_data[\"susceptibles\"][0.05].to_list() + model_data[\"susceptibles\"][0.95][::-1].to_list()\n",
    "    y_vals_transmission = model_data[\"transmission potential\"][0.05].to_list() + model_data[\"transmission potential\"][0.95][::-1].to_list()\n",
    "                           \n",
    "    # Create subplot\n",
    "    fig = make_subplots(1, 2, shared_xaxes=True,  subplot_titles=(),\n",
    "                       horizontal_spacing = 0.05, vertical_spacing = 0.05)\n",
    "    \n",
    "    # Add modelled case notifications median line\n",
    "    fig.add_trace(go.Scatter(x=model_index, y=weekly_median, mode=\"lines\", name=\"Modelled cases\", marker_color='#636EFA', showlegend=False ), row=1, col=1)\n",
    "    # Add modelled case notifications uncertainty\n",
    "    fig.add_trace(go.Scatter(x=x_vals, y=y_vals_weekly, mode=\"lines\", name=\"Modelled cases\", line={\"width\": 0.0, \"color\": '#636EFA'}, fill='toself',\n",
    "                             showlegend=False ), row=1, col=1)\n",
    "    # Add case notifications\n",
    "    fig.add_trace(go.Scatter(x=case_index, y=cases,  mode=\"markers\", name=\"Reported cases\", marker_color=\"black\", showlegend=False ), row=1, col=1)\n",
    "    \n",
    "    # Add Rt median line\n",
    "    fig.add_trace(go.Scatter(x=model_index, y=rt_median, mode=\"lines\", name=\"Rt\", marker_color='#00CC96', showlegend=False ), row=1, col=2)\n",
    "    # Add Rt uncertainty \n",
    "    fig.add_trace(go.Scatter(x=x_vals, y=y_vals_R, mode=\"lines\", name=\"Rt\", line={\"width\": 0.0, \"color\": '#00CC96'}, fill='toself', showlegend=False ), row=1,\n",
    "                  col=2)\n",
    "                                 \n",
    "    return fig.update_layout(height=500, width=1600) "
   ]
  },
  {
   "cell_type": "code",
   "execution_count": null,
   "id": "8120c221-6af1-4ebf-a804-66dcb52ef40f",
   "metadata": {},
   "outputs": [],
   "source": [
    "fig = plot(quantiles_df, select_data)\n",
    "\n",
    "number = 2\n",
    "\n",
    "for i in range(number):\n",
    "    fig.add_vrect(x0=datetime.strptime(\"2021-06-01\", \"%Y-%m-%d\").timestamp() * 1000, x1=datetime.strptime(\"2021-06-16\", \"%Y-%m-%d\").timestamp() * 1000,\n",
    "             annotation_text=\"\", annotation_position=\"right\",\n",
    "             fillcolor='#FFA15A', opacity=0.60, line_width=0.8, layer='below', row=1, col=i+1)\n",
    "    \n",
    "    delta = variant_data[variant_data['variant'] == 'Delta']\n",
    "    delta_week = delta['week'].to_string(index=False)\n",
    "    fig.add_vline(x=datetime.strptime(delta_week, \"%Y-%m-%d\").timestamp() * 1000, \n",
    "              annotation_text=\"Delta >50%\", annotation_position=\"bottom right\", annotation_font_size=20,\n",
    "                  row=1, col=i+1, line_dash=\"dash\")\n",
    "    \n",
    "    omicron = variant_data[variant_data['variant'] == 'Omicron_BA1_2']\n",
    "    omicron_week = omicron['week'].to_string(index=False)\n",
    "    fig.add_vline(x=datetime.strptime(omicron_week, \"%Y-%m-%d\").timestamp() * 1000, \n",
    "              annotation_text=\"Omicron >50%\", annotation_position=\"bottom right\", annotation_font_size=20,\n",
    "                  row=1, col=i+1, line_dash=\"dash\")\n",
    "\n",
    "#fig['layout']['xaxis']['title']='Date'\n",
    "#fig['layout']['xaxis1']['title']='Date'\n",
    "fig['layout']['yaxis']['title']='Weekly reported cases'\n",
    "fig['layout']['yaxis2']['title']='Reproduction number'\n",
    "\n",
    "fig.update_layout(\n",
    "    font=dict(\n",
    "        size=18,  # Set the font size here\n",
    "    )\n",
    ")\n",
    "\n",
    "fig.update_yaxes(\n",
    "        title_standoff = 10)\n",
    "\n",
    "fig.show()"
   ]
  },
  {
   "cell_type": "code",
   "execution_count": null,
   "id": "c372f8e1-7eff-49a6-be78-172c20b2d7e7",
   "metadata": {
    "scrolled": true
   },
   "outputs": [],
   "source": [
    "fig = plot_main(quantiles_df, select_data, mobility_data, vaccination_data).update_layout(showlegend=False)\n",
    "\n",
    "# Add interventions and variant prevalence to plots\n",
    "number = 2\n",
    "\n",
    "for i in range(number):\n",
    "    fig.add_vrect(x0=datetime.strptime(\"2021-06-01\", \"%Y-%m-%d\").timestamp() * 1000, x1=datetime.strptime(\"2021-06-16\", \"%Y-%m-%d\").timestamp() * 1000,\n",
    "             annotation_text=\"\", annotation_position=\"right\",\n",
    "             fillcolor='#FFA15A', opacity=0.60, line_width=0.8, layer='below', row=1, col=i+1)\n",
    "    \n",
    "    delta = variant_data[variant_data['variant'] == 'Delta']\n",
    "    delta_week = delta['week'].to_string(index=False)\n",
    "    fig.add_vline(x=datetime.strptime(delta_week, \"%Y-%m-%d\").timestamp() * 1000, \n",
    "              annotation_text=\"Delta >50%\", annotation_position=\"bottom right\", row=1, col=i+1, line_dash=\"dash\")\n",
    "    \n",
    "    omicron = variant_data[variant_data['variant'] == 'Omicron_BA1_2']\n",
    "    omicron_week = omicron['week'].to_string(index=False)\n",
    "    fig.add_vline(x=datetime.strptime(omicron_week, \"%Y-%m-%d\").timestamp() * 1000, \n",
    "              annotation_text=\"Omicron >50%\", annotation_position=\"bottom right\", row=1, col=i+1, line_dash=\"dash\")\n",
    "    \n",
    "# add lockdown to mobility figure too\n",
    "fig.add_vrect(x0=datetime.strptime(\"2021-06-01\", \"%Y-%m-%d\").timestamp() * 1000, x1=datetime.strptime(\"2021-06-16\", \"%Y-%m-%d\").timestamp() * 1000,\n",
    "             annotation_text=\"\", annotation_position=\"right\",\n",
    "             fillcolor='#FFA15A', opacity=0.60, line_width=0.8, layer='below', row=3, col=1)\n",
    "\n",
    "fig['layout']['xaxis5']['title']='Date'\n",
    "fig['layout']['xaxis6']['title']='Date'\n",
    "fig['layout']['yaxis']['title']='Weekly reported cases'\n",
    "fig['layout']['yaxis2']['title']=''\n",
    "fig['layout']['yaxis3']['title']='Total persons susceptible'\n",
    "fig['layout']['yaxis4']['title']='' \n",
    "fig['layout']['yaxis5']['title']='% change from baseline'\n",
    "fig['layout']['yaxis6']['title']='% total population' \n",
    "\n",
    "\n",
    "fig.show()"
   ]
  },
  {
   "cell_type": "code",
   "execution_count": null,
   "id": "e546555e-c19b-475c-b600-8de6fde80665",
   "metadata": {},
   "outputs": [],
   "source": [
    "# Quick code for exploring quantiles\n",
    "print(quantiles_df.loc['2021-7-5':'2021-7-20'])"
   ]
  },
  {
   "cell_type": "code",
   "execution_count": null,
   "id": "a0c3450b-ec2f-4179-b5a2-9298de1c79dd",
   "metadata": {},
   "outputs": [],
   "source": [
    "# quick code for calculating final attack rate\n",
    "suscepts = quantiles_df['susceptibles']\n",
    "suscepts['AR_05'] = 1 - suscepts[0.05]/pop\n",
    "suscepts['AR_5'] = 1 - suscepts[0.50]/pop\n",
    "suscepts['AR_95'] = 1- suscepts[0.95]/pop"
   ]
  },
  {
   "cell_type": "code",
   "execution_count": null,
   "id": "7c9ba034-039c-46ce-af21-bf7180f34fc8",
   "metadata": {},
   "outputs": [],
   "source": [
    "suscepts.tail(5)"
   ]
  },
  {
   "cell_type": "code",
   "execution_count": null,
   "id": "caa96fc0-ecd3-4dbb-bf00-f2d3416d07fc",
   "metadata": {},
   "outputs": [],
   "source": [
    "Markdown('## Model description')"
   ]
  },
  {
   "cell_type": "code",
   "execution_count": null,
   "id": "f61c462d-d5a4-4eee-ab28-2747a5c7b23b",
   "metadata": {},
   "outputs": [],
   "source": [
    "Markdown(renew_model.get_description())"
   ]
  },
  {
   "cell_type": "code",
   "execution_count": null,
   "id": "9251cc16-f6a1-4ff3-b6b2-dc4cad1701ae",
   "metadata": {},
   "outputs": [],
   "source": [
    "Markdown('## Prior distributions')"
   ]
  },
  {
   "cell_type": "markdown",
   "id": "18d763ab-8f0d-49b5-b7c8-214c01356d67",
   "metadata": {},
   "source": [
    "### Generation distribution"
   ]
  },
  {
   "cell_type": "code",
   "execution_count": null,
   "id": "cb165d4d-f76e-4fdd-9c92-b0b50f3be20d",
   "metadata": {},
   "outputs": [],
   "source": [
    "Markdown('## Calibration')"
   ]
  },
  {
   "cell_type": "code",
   "execution_count": null,
   "id": "4136d982-6fa1-41dc-85b1-adecfe5236b6",
   "metadata": {},
   "outputs": [],
   "source": [
    "Markdown(calib.get_description())"
   ]
  },
  {
   "cell_type": "code",
   "execution_count": null,
   "id": "ff940cee-069a-4ec8-a885-0b50795e764d",
   "metadata": {},
   "outputs": [],
   "source": [
    "summary = az.summary(idata)\n",
    "#summary = adjust_summary_cols(summary)\n",
    "#summary.index = summary.index.map(get_adjust_idata_index(renew_model))\n",
    "#Markdown(summary.to_markdown())"
   ]
  },
  {
   "cell_type": "code",
   "execution_count": null,
   "id": "cf810537-6670-4aae-a8f5-7ac043048512",
   "metadata": {},
   "outputs": [],
   "source": [
    "plot_post_prior_comparison(idata, [p for p in priors.keys() if p !=\"rt_init\"],priors);"
   ]
  },
  {
   "cell_type": "code",
   "execution_count": null,
   "id": "14440aa4-f7fe-48ad-a9e7-99d9862e0632",
   "metadata": {},
   "outputs": [],
   "source": [
    "az.summary(idata)"
   ]
  },
  {
   "cell_type": "code",
   "execution_count": null,
   "id": "a2119adb-069f-456d-be2a-3f71cef74a8a",
   "metadata": {},
   "outputs": [],
   "source": [
    "param_sum = az.summary(idata)\n",
    "params = [i for i in param_sum.index if not any(s in i for s in [\"proc\", \"rt_init\"])]\n",
    "cols = [i for i in param_sum.columns if not any(s in i for s in [\"mcse_\"])]\n",
    "short_param_sum = param_sum.loc[params, cols]\n",
    "short_param_sum.columns = short_param_sum.columns.str.replace(\"_\", \" \").str.replace(\"ess\", \"ESS\").str.replace(\"hdi\", \"HDI\")\n",
    "param_str_conv = {\n",
    "    \"cdr\": \"CDR\",\n",
    "    \"gen_mean\": \"generation distribution mean (days)\",\n",
    "    \"gen_sd\": \"generation distribution SD (days)\",\n",
    "    \"report_mean\": \"reporting distribution mean (days)\",\n",
    "    \"report_sd\": \"reporting distribution SD (days)\",\n",
    "}\n",
    "col_str_conv = {\n",
    "    \"r hat\": \"R-hat\",\n",
    "    \"sd\": \"SD\",\n",
    "}\n",
    "short_param_sum = short_param_sum.rename(param_str_conv)\n",
    "short_param_sum = short_param_sum.rename(col_str_conv, axis=1)\n",
    "short_param_sum"
   ]
  }
 ],
 "metadata": {
  "kernelspec": {
   "display_name": "wpr-renewal",
   "language": "python",
   "name": "wpr-renewal"
  },
  "language_info": {
   "codemirror_mode": {
    "name": "ipython",
    "version": 3
   },
   "file_extension": ".py",
   "mimetype": "text/x-python",
   "name": "python",
   "nbconvert_exporter": "python",
   "pygments_lexer": "ipython3",
   "version": "3.10.14"
  }
 },
 "nbformat": 4,
 "nbformat_minor": 5
}
