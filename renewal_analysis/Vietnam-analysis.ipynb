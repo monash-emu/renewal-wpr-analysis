{
 "cells": [
  {
   "cell_type": "raw",
   "id": "d1ed58e9-ff56-49c6-8e8b-6e8035ede761",
   "metadata": {},
   "source": [
    "---\n",
    "title: \"Viet Nam analysis\"\n",
    "bibliography: renew.bib\n",
    "format:\n",
    "  docx:\n",
    "    code-fold: true\n",
    "jupyter: python3\n",
    "---"
   ]
  },
  {
   "cell_type": "code",
   "execution_count": null,
   "id": "5730ca1a-49f5-4ad7-926c-363be3671584",
   "metadata": {},
   "outputs": [],
   "source": [
    "from jax import jit, random\n",
    "import pandas as pd\n",
    "from datetime import datetime, timedelta\n",
    "import numpyro\n",
    "from numpyro import distributions as dist\n",
    "from numpyro import infer\n",
    "import arviz as az\n",
    "from IPython.display import Markdown\n",
    "from plotly.express.colors import qualitative as qual_colours\n",
    "from pathlib import Path\n",
    "import math\n",
    "import plotly.express as px\n",
    "import plotly.graph_objects as go\n",
    "from matplotlib import pyplot as plt\n",
    "\n",
    "from estival.sampling import tools as esamp\n",
    "\n",
    "from emu_renewal.process import CosineMultiCurve\n",
    "from emu_renewal.distributions import GammaDens\n",
    "from emu_renewal.renew import RenewalModel\n",
    "from emu_renewal.outputs import get_spaghetti_from_params, get_quant_df_from_spaghetti, plot_spaghetti\n",
    "from emu_renewal.outputs import plot_uncertainty_patches, PANEL_SUBTITLES, plot_3d_spaghetti, plot_post_prior_comparison\n",
    "from emu_renewal.calibration import StandardCalib\n",
    "from emu_renewal.utils import get_adjust_idata_index, adjust_summary_cols\n",
    "\n",
    "from plotting import plot_main\n",
    "from utils import load_target_data, load_mobility_data, load_vaccination_data, load_variant_prevalence_data"
   ]
  },
  {
   "cell_type": "code",
   "execution_count": null,
   "id": "a0a734ae-3ec3-4d58-9f5a-61cffbd47177",
   "metadata": {},
   "outputs": [],
   "source": [
    "# Set path and country\n",
    "cwd = Path.cwd()\n",
    "country = 'Vietnam'"
   ]
  },
  {
   "cell_type": "code",
   "execution_count": null,
   "id": "522d03e7-c7b6-4dac-a07d-3096fe401d7d",
   "metadata": {},
   "outputs": [],
   "source": [
    "# load data\n",
    "target_data = load_target_data(country)\n",
    "mobility_data = load_mobility_data(country)\n",
    "vaccination_data = load_vaccination_data(country)\n",
    "variant_data = load_variant_prevalence_data(country)"
   ]
  },
  {
   "cell_type": "code",
   "execution_count": null,
   "id": "a20aa476-67be-455d-ad00-f848d7bcac6f",
   "metadata": {},
   "outputs": [],
   "source": [
    "# Specify fixed parameters and get calibration data\n",
    "proc_update_freq = 21\n",
    "init_time = 50\n",
    "data = target_data\n",
    "pop = 98e6\n",
    "analysis_start = datetime(2021, 5, 1)\n",
    "analysis_end = datetime(2022, 4, 30)\n",
    "init_start = analysis_start - timedelta(init_time)\n",
    "init_end = analysis_start - timedelta(1)\n",
    "select_data = data.loc[analysis_start: analysis_end]\n",
    "init_data = data.resample(\"D\").asfreq().interpolate().loc[init_start: init_end] / 7.0"
   ]
  },
  {
   "cell_type": "code",
   "execution_count": null,
   "id": "6c474089-729c-4495-be21-0e187a26d3ac",
   "metadata": {},
   "outputs": [],
   "source": [
    "proc_fitter = CosineMultiCurve()\n",
    "renew_model = RenewalModel(pop, analysis_start, analysis_end, proc_update_freq, proc_fitter, GammaDens(), init_time, init_data, GammaDens())"
   ]
  },
  {
   "cell_type": "code",
   "execution_count": null,
   "id": "a10524aa-8a7c-49bf-b6c5-9e4ca02fae71",
   "metadata": {},
   "outputs": [],
   "source": [
    "# Define parameter ranges\n",
    "priors = {\n",
    "    \"gen_mean\": dist.TruncatedNormal(7.3, 0.5, low=1.0),\n",
    "    \"gen_sd\": dist.TruncatedNormal(3.8, 0.5, low=1.0),\n",
    "    \"cdr\": dist.Beta(16, 40),\n",
    "    \"rt_init\": dist.Normal(0.0, 0.25),\n",
    "    \"report_mean\": dist.TruncatedNormal(8, 0.5, low=1.0),\n",
    "    \"report_sd\": dist.TruncatedNormal(3, 0.5, low=1.0),\n",
    "}"
   ]
  },
  {
   "cell_type": "code",
   "execution_count": null,
   "id": "eeccf64e-d477-4243-be73-3781f860619f",
   "metadata": {},
   "outputs": [],
   "source": [
    "calib = StandardCalib(renew_model, priors, select_data, indicator='weekly_sum')\n",
    "kernel = infer.NUTS(calib.calibration, dense_mass=True, init_strategy=infer.init_to_uniform(radius=0.5))\n",
    "mcmc = infer.MCMC(kernel, num_chains=4, num_samples=4000, num_warmup=500)\n",
    "mcmc.run(random.PRNGKey(123))"
   ]
  },
  {
   "cell_type": "code",
   "execution_count": null,
   "id": "fca40fa3",
   "metadata": {},
   "outputs": [],
   "source": [
    "idata = az.from_dict(mcmc.get_samples(True))\n",
    "idata_sampled = az.extract(idata, num_samples=100)\n",
    "sample_params = esamp.xarray_to_sampleiterator(idata_sampled)"
   ]
  },
  {
   "cell_type": "code",
   "execution_count": null,
   "id": "0668da25",
   "metadata": {},
   "outputs": [],
   "source": [
    "def get_full_result(gen_mean, gen_sd, proc, cdr, rt_init, report_mean, report_sd):\n",
    "    return renew_model.renewal_func(gen_mean, gen_sd, proc, cdr, rt_init, report_mean, report_sd)\n",
    "\n",
    "full_wrap = jit(get_full_result)\n",
    "panel_subtitles = [\"weekly_sum\"] + PANEL_SUBTITLES[1:]\n",
    "spaghetti = get_spaghetti_from_params(renew_model, sample_params, full_wrap, outputs=panel_subtitles)\n",
    "quantiles_df = get_quant_df_from_spaghetti(renew_model, spaghetti, quantiles=[0.05, 0.5, 0.95], outputs=panel_subtitles)"
   ]
  },
  {
   "cell_type": "code",
   "execution_count": null,
   "id": "49eb2bbc-7e1b-41a1-b1e7-1954aa9fd5fe",
   "metadata": {},
   "outputs": [],
   "source": [
    "# Restrict range of mobility and vax data to analysis timeframe\n",
    "mobility_data = mobility_data.loc[analysis_start:analysis_end]\n",
    "vaccination_data = vaccination_data.loc[analysis_start:analysis_end]"
   ]
  },
  {
   "cell_type": "code",
   "execution_count": null,
   "id": "9fac49af-2888-48ec-8675-18852b5d102c",
   "metadata": {
    "scrolled": true
   },
   "outputs": [],
   "source": [
    "fig = plot_main(quantiles_df, select_data, mobility_data, vaccination_data).update_layout(showlegend=False)\n",
    "# Add interventions and variant prevalence to plots\n",
    "number = 2\n",
    "for i in range(number):\n",
    "    \n",
    "    delta = variant_data[variant_data['variant'] == 'Delta']\n",
    "    delta_week = \"2021-7-4\"\n",
    "    fig.add_vline(x=datetime.strptime(delta_week, \"%Y-%m-%d\").timestamp() * 1000, \n",
    "              annotation_text=\"Delta >50%\", annotation_position=\"bottom right\", row=1, col=i+1, line_dash=\"dash\")\n",
    "    \n",
    "    omicron = variant_data[variant_data['variant'] == 'Omicron_BA1_2']\n",
    "    omicron_week = omicron['week'].to_string(index=False)\n",
    "    fig.add_vline(x=datetime.strptime(omicron_week, \"%Y-%m-%d\").timestamp() * 1000, \n",
    "              annotation_text=\"Omicron >50%\", annotation_position=\"bottom right\", row=1, col=i+1, line_dash=\"dash\")\n",
    "\n",
    "fig['layout']['xaxis5']['title']='Date'\n",
    "fig['layout']['xaxis6']['title']='Date'\n",
    "fig['layout']['yaxis']['title']='Weekly reported cases'\n",
    "fig['layout']['yaxis2']['title']=''\n",
    "fig['layout']['yaxis3']['title']='Total persons susceptible'\n",
    "fig['layout']['yaxis4']['title']='' \n",
    "fig['layout']['yaxis5']['title']='% change from baseline'\n",
    "fig['layout']['yaxis6']['title']='% total population' \n",
    "\n",
    "\n",
    "fig.show()"
   ]
  },
  {
   "cell_type": "code",
   "execution_count": null,
   "id": "8efc090f-fc05-4392-a3b3-2a816e3e6b00",
   "metadata": {},
   "outputs": [],
   "source": [
    "# Quick code for exploring quantiles\n",
    "print(quantiles_df.loc['2022-2-20':'2022-2-28'])"
   ]
  },
  {
   "cell_type": "code",
   "execution_count": null,
   "id": "ac56504c-3231-433c-a7f2-c96e0109058a",
   "metadata": {},
   "outputs": [],
   "source": [
    "quantiles_df.loc['2022-1-1':'2022-2-20']['R'][0.5].max()"
   ]
  },
  {
   "cell_type": "code",
   "execution_count": null,
   "id": "3032ad48-7c3a-49b8-9703-4f53f604c6a7",
   "metadata": {},
   "outputs": [],
   "source": [
    "# quick code for calculating final attack rate\n",
    "suscepts = quantiles_df['susceptibles']\n",
    "suscepts['AR_05'] = 1 - suscepts[0.05]/pop\n",
    "suscepts['AR_5'] = 1 - suscepts[0.50]/pop\n",
    "suscepts['AR_95'] = 1- suscepts[0.95]/pop"
   ]
  },
  {
   "cell_type": "code",
   "execution_count": null,
   "id": "a1b0c28b-cc88-4fe0-890a-b3cc5148610a",
   "metadata": {},
   "outputs": [],
   "source": [
    "suscepts.tail(5)"
   ]
  },
  {
   "cell_type": "code",
   "execution_count": null,
   "id": "787d028a-e82f-4c10-9e9c-580f3f2d0836",
   "metadata": {},
   "outputs": [],
   "source": [
    "Markdown(renew_model.get_description())"
   ]
  },
  {
   "cell_type": "code",
   "execution_count": null,
   "id": "f8b424dd-fe7a-4fe4-95fb-93a945cb4050",
   "metadata": {},
   "outputs": [],
   "source": [
    "az.summary(idata, hdi_prob=0.95)"
   ]
  },
  {
   "cell_type": "code",
   "execution_count": null,
   "id": "5598afc3",
   "metadata": {},
   "outputs": [],
   "source": [
    "plot_post_prior_comparison(idata, [p for p in priors.keys() if p !=\"rt_init\"],priors);\n",
    "plt.savefig('viet_posterior.png')"
   ]
  },
  {
   "cell_type": "code",
   "execution_count": null,
   "id": "a700e0b9-00dd-49ef-b39d-ffa670e99826",
   "metadata": {},
   "outputs": [],
   "source": [
    "az.plot_trace(idata)\n",
    "plt.tight_layout()\n",
    "plt.savefig('vietnam_trace.png')"
   ]
  }
 ],
 "metadata": {
  "kernelspec": {
   "display_name": "wpr-renewal",
   "language": "python",
   "name": "python3"
  },
  "language_info": {
   "codemirror_mode": {
    "name": "ipython",
    "version": 3
   },
   "file_extension": ".py",
   "mimetype": "text/x-python",
   "name": "python",
   "nbconvert_exporter": "python",
   "pygments_lexer": "ipython3",
   "version": "3.10.14"
  }
 },
 "nbformat": 4,
 "nbformat_minor": 5
}
