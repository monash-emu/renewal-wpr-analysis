{
 "cells": [
  {
   "cell_type": "code",
   "execution_count": null,
   "id": "72a8f332-d6f0-4010-9f36-4a2555490a45",
   "metadata": {},
   "outputs": [],
   "source": [
    "from jax import jit, random\n",
    "import pandas as pd\n",
    "from datetime import datetime, timedelta\n",
    "import numpyro\n",
    "from numpyro import distributions as dist\n",
    "from numpyro import infer\n",
    "import arviz as az\n",
    "from IPython.display import Markdown\n",
    "from plotly.express.colors import qualitative as qual_colours\n",
    "import pathlib\n",
    "import math\n",
    "import plotly.express as px\n",
    "import plotly.graph_objects as go\n",
    "\n",
    "from estival.sampling import tools as esamp\n",
    "\n",
    "from emu_renewal.process import CosineMultiCurve\n",
    "from emu_renewal.distributions import GammaDens\n",
    "from emu_renewal.renew import RenewalModel\n",
    "from emu_renewal.outputs import get_spaghetti_from_params, get_quant_df_from_spaghetti, plot_spaghetti\n",
    "from emu_renewal.outputs import plot_uncertainty_patches, PANEL_SUBTITLES, plot_3d_spaghetti, plot_post_prior_comparison\n",
    "from emu_renewal.calibration import StandardCalib\n",
    "from emu_renewal.utils import get_adjust_idata_index, adjust_summary_cols"
   ]
  },
  {
   "cell_type": "code",
   "execution_count": null,
   "id": "68d7236f-94e1-473f-8709-0297902bcb3d",
   "metadata": {},
   "outputs": [],
   "source": [
    "# Set path to target data from WHO weekly time series\n",
    "target_data_path = pathlib.Path('../data/target-data/case-data.csv')"
   ]
  },
  {
   "cell_type": "code",
   "execution_count": null,
   "id": "2787857b-b8ca-4770-b98e-b1703aba01ee",
   "metadata": {},
   "outputs": [],
   "source": [
    "# Load in target data from WHO weekly time series\n",
    "data = pd.read_csv(target_data_path, index_col=0)\n",
    "data.index = pd.to_datetime(data.index)"
   ]
  },
  {
   "cell_type": "code",
   "execution_count": null,
   "id": "6e8e6fe7-11f5-47b2-b760-0f75c884c9ca",
   "metadata": {},
   "outputs": [],
   "source": [
    "# Also load daily time series data from owid\n",
    "mys_data_daily = pd.read_csv(\"https://github.com/monash-emu/wpro_working/raw/main/data/new_cases.csv\", index_col=0)[\"MYS\"]\n",
    "mys_data_daily.index = pd.to_datetime(mys_data_daily.index)"
   ]
  },
  {
   "cell_type": "code",
   "execution_count": null,
   "id": "4bd91a2d-8b7d-4ecc-aec3-4ced50048d2d",
   "metadata": {},
   "outputs": [],
   "source": [
    "mys_data_daily.plot()"
   ]
  },
  {
   "cell_type": "code",
   "execution_count": null,
   "id": "e8a9daae-caa7-4fdb-97a8-376ed4f94a33",
   "metadata": {},
   "outputs": [],
   "source": [
    "data['New_cases_MYS'].plot()"
   ]
  },
  {
   "cell_type": "code",
   "execution_count": null,
   "id": "0ee19776-8e5f-4172-8820-f04be85d27b7",
   "metadata": {},
   "outputs": [],
   "source": [
    "data"
   ]
  },
  {
   "cell_type": "code",
   "execution_count": null,
   "id": "88facc89-18c3-4a92-8ced-b524465da91d",
   "metadata": {},
   "outputs": [],
   "source": [
    "# Specify fixed parameters and get calibration data\n",
    "proc_update_freq = 14\n",
    "init_time = 50\n",
    "mys_data = data['New_cases_MYS']\n",
    "pop = 33e6\n",
    "analysis_start = datetime(2021, 3, 1)\n",
    "analysis_end = datetime(2021, 11, 1)\n",
    "init_start = analysis_start - timedelta(init_time)\n",
    "init_end = analysis_start - timedelta(1)\n",
    "select_data = mys_data.loc[analysis_start: analysis_end]\n",
    "init_data = mys_data.loc[init_start: init_end]"
   ]
  },
  {
   "cell_type": "code",
   "execution_count": null,
   "id": "9d2d9502-7e50-4419-b09a-a8fb2eda564a",
   "metadata": {},
   "outputs": [],
   "source": [
    "proc_fitter = CosineMultiCurve()\n",
    "renew_model = RenewalModel(33e6, analysis_start, analysis_end, proc_update_freq, proc_fitter, GammaDens(), 50, init_data, GammaDens())"
   ]
  },
  {
   "cell_type": "code",
   "execution_count": null,
   "id": "8ba6806a-ca8c-4b21-90ee-c21492763e62",
   "metadata": {},
   "outputs": [],
   "source": [
    "# Define parameter ranges\n",
    "priors = {\n",
    "    \"gen_mean\": dist.TruncatedNormal(5.0, 0.4, low=0.0),\n",
    "    \"gen_sd\": dist.TruncatedNormal(3.8, 0.5, low=0.0),\n",
    "    \"cdr\": dist.Beta(4.0, 10.0),\n",
    "    \"rt_init\": dist.Normal(0.0, 0.25),\n",
    "    \"report_mean\": dist.TruncatedNormal(5, 0.5, low=0.0),\n",
    "    \"report_sd\": dist.TruncatedNormal(2, 0.5, low=0.0),\n",
    "}"
   ]
  },
  {
   "cell_type": "code",
   "execution_count": null,
   "id": "70eb3fd6-25e8-44c7-8429-dd6b40e67bb4",
   "metadata": {},
   "outputs": [],
   "source": [
    "calib = StandardCalib(renew_model, priors, select_data, indicator='weekly_sum')\n",
    "kernel = infer.NUTS(calib.calibration, dense_mass=True, init_strategy=infer.init_to_uniform(radius=0.5))\n",
    "mcmc = infer.MCMC(kernel, num_chains=2, num_samples=1000, num_warmup=1000)\n",
    "mcmc.run(random.PRNGKey(1))"
   ]
  },
  {
   "cell_type": "code",
   "execution_count": null,
   "id": "a085fcb1-6a0c-4379-af1b-8230fad4778f",
   "metadata": {},
   "outputs": [],
   "source": [
    "idata = az.from_dict(mcmc.get_samples(True))\n",
    "idata_sampled = az.extract(idata, num_samples=200)\n",
    "sample_params = esamp.xarray_to_sampleiterator(idata_sampled)"
   ]
  },
  {
   "cell_type": "code",
   "execution_count": null,
   "id": "0a6aca16-77ed-44ef-9a19-3de113d94efe",
   "metadata": {
    "scrolled": true
   },
   "outputs": [],
   "source": [
    "def get_full_result(gen_mean, gen_sd, proc, cdr, rt_init, report_mean, report_sd):\n",
    "    return renew_model.renewal_func(gen_mean, gen_sd, proc, cdr, rt_init, report_mean, report_sd)\n",
    "\n",
    "full_wrap = jit(get_full_result)\n",
    "spaghetti = get_spaghetti_from_params(renew_model, sample_params, full_wrap)\n",
    "quantiles_df = get_quant_df_from_spaghetti(renew_model, spaghetti, quantiles=[0.05, 0.5, 0.95])\n",
    "plot_uncertainty_patches(quantiles_df, select_data, qual_colours.Plotly).update_layout(showlegend=False)"
   ]
  },
  {
   "cell_type": "code",
   "execution_count": null,
   "id": "93e16953-f12e-4734-b5c0-6ca5cc517077",
   "metadata": {},
   "outputs": [],
   "source": [
    "az.summary(idata)"
   ]
  },
  {
   "cell_type": "code",
   "execution_count": null,
   "id": "c0950f7b-b6fa-4e2e-b0d2-0c4283002079",
   "metadata": {},
   "outputs": [],
   "source": [
    "plot_post_prior_comparison(idata, list(priors.keys()), priors);"
   ]
  },
  {
   "cell_type": "code",
   "execution_count": null,
   "id": "71434d7d-a1ae-4c00-af2c-58015743ec20",
   "metadata": {},
   "outputs": [],
   "source": [
    "model_daily_cases = quantiles_df['cases'][0.50]"
   ]
  },
  {
   "cell_type": "code",
   "execution_count": null,
   "id": "4ac4b1ef-97df-45dc-bd81-be22d6096084",
   "metadata": {},
   "outputs": [],
   "source": [
    "model_daily_cases = pd.DataFrame(model_daily_cases)"
   ]
  },
  {
   "cell_type": "code",
   "execution_count": null,
   "id": "aa1ba78b-0410-4eb6-b892-3b9f93698db3",
   "metadata": {},
   "outputs": [],
   "source": [
    "model_daily_cases['date'] = model_daily_cases.index()"
   ]
  },
  {
   "cell_type": "code",
   "execution_count": null,
   "id": "2481552a-6281-4985-b911-62f255837ede",
   "metadata": {},
   "outputs": [],
   "source": [
    "# create date column and reset index\n",
    "\n",
    "model_daily_cases = model_daily_cases.reset_index()\n",
    "model_daily_cases = model_daily_cases.rename(columns={\"index\": \"date\"})"
   ]
  },
  {
   "cell_type": "code",
   "execution_count": null,
   "id": "18061557-e42d-4105-9acc-baf591e6e109",
   "metadata": {},
   "outputs": [],
   "source": [
    "import numpy as np"
   ]
  },
  {
   "cell_type": "code",
   "execution_count": null,
   "id": "0deeba0f-c656-4fac-8c3a-06b94d61cabb",
   "metadata": {},
   "outputs": [],
   "source": [
    "# this gives the monday of each week\n",
    "model_daily_cases['week_start'] = model_daily_cases['date'] + (np.timedelta64(6, 'D') - model_daily_cases['date'].dt.weekday.astype('timedelta64[D]')) "
   ]
  },
  {
   "cell_type": "code",
   "execution_count": null,
   "id": "76595fcb-bcec-4639-967c-01ff15f32d34",
   "metadata": {},
   "outputs": [],
   "source": [
    "model_daily_cases['date'].dt.weekday.astype('timedelta64[D]')"
   ]
  },
  {
   "cell_type": "code",
   "execution_count": null,
   "id": "51d17678-b016-4564-9e8d-bb81d63e79c9",
   "metadata": {},
   "outputs": [],
   "source": [
    "weekly_cases = model_daily_cases.groupby(['week_start'])[0.5].sum()"
   ]
  },
  {
   "cell_type": "code",
   "execution_count": null,
   "id": "e03649c5-5c55-44e9-a91e-40f13b744bb5",
   "metadata": {},
   "outputs": [],
   "source": [
    "fig = go.Figure()\n",
    "\n",
    "fig.add_trace(go.Scatter(x=weekly_cases.index, y=weekly_cases,  name='model'))\n",
    "              \n",
    "fig.add_trace(go.Scatter(x=data.index, y=data['New_cases_MYS'], name='WHO data'))\n",
    "\n",
    "fig.update_xaxes(range=(datetime(2021, 3, 1), datetime(2021, 10, 18)), title='date')\n",
    "fig.update_yaxes(title='weekly reported cases')\n",
    "\n",
    "fig.show()"
   ]
  }
 ],
 "metadata": {
  "kernelspec": {
   "display_name": "renewal-wpr",
   "language": "python",
   "name": "python3"
  },
  "language_info": {
   "codemirror_mode": {
    "name": "ipython",
    "version": 3
   },
   "file_extension": ".py",
   "mimetype": "text/x-python",
   "name": "python",
   "nbconvert_exporter": "python",
   "pygments_lexer": "ipython3",
   "version": "3.10.14"
  }
 },
 "nbformat": 4,
 "nbformat_minor": 5
}
