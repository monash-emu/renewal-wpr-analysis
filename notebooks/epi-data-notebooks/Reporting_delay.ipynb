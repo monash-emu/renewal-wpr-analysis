{
 "cells": [
  {
   "cell_type": "code",
   "execution_count": null,
   "id": "7410b978-43aa-4618-bbb0-5cdd7335eb0a",
   "metadata": {},
   "outputs": [],
   "source": []
  },
  {
   "cell_type": "markdown",
   "id": "f2a6df69-0901-4042-a6fa-bd05a1a539eb",
   "metadata": {},
   "source": [
    "### Obervsation model processes\n",
    "Conceptually in the model incident cases enter the observation model once they are infectious. The observation process is independent of the renewal process that generates new incident infections from prior infections via the generation distribution. The observation model is used to link modelled incident cases to the data which we are using to calibrate the model, which in this application is notified COVID-19 cases. \n",
    "\n",
    "There are two components that govern the observation model, one process is the delay that occurs from becoming infectious to being reported as a case and thus the case showing up in the data, which we term the 'reporting delay' and the second process is the 'case detection rate (CDR)' which captures the important aspect that not all true cases of infection are notified.\n",
    "\n",
    "The CDR is highly uncertain and can only be experimentally estimated "
   ]
  },
  {
   "cell_type": "markdown",
   "id": "1b2d18a6-e804-4048-ba5c-345f3b1b5036",
   "metadata": {},
   "source": [
    "### Case detection rate\n",
    "The CDR is highly uncertain and can only be experimentally estimated by well constructed seroprevlaence surveys."
   ]
  },
  {
   "cell_type": "markdown",
   "id": "92cbb234-9177-4bc4-bc37-cc6f6233116e",
   "metadata": {},
   "source": [
    "### Reporting delay\n",
    "The reporting delay and how it should be interpreted depends on the underlying notification data. Importantly as the observation process in the model only begins once individuals have become infectious, the latent period (time from infection to infectiousness) has already occurred and so we need to account\n",
    "\n",
    "\n",
    "If your case data represents the date of symptom onset"
   ]
  }
 ],
 "metadata": {
  "kernelspec": {
   "display_name": "renewal",
   "language": "python",
   "name": "renewal"
  },
  "language_info": {
   "codemirror_mode": {
    "name": "ipython",
    "version": 3
   },
   "file_extension": ".py",
   "mimetype": "text/x-python",
   "name": "python",
   "nbconvert_exporter": "python",
   "pygments_lexer": "ipython3",
   "version": "3.10.14"
  }
 },
 "nbformat": 4,
 "nbformat_minor": 5
}
