{
 "cells": [
  {
   "cell_type": "code",
   "execution_count": null,
   "id": "b0b10904-f0cc-4d4c-b854-0e5ce196bf8a",
   "metadata": {},
   "outputs": [],
   "source": [
    "import pandas as pd\n",
    "import plotly.express as px\n",
    "from pathlib import Path"
   ]
  },
  {
   "cell_type": "code",
   "execution_count": null,
   "id": "2c95b3c8-c9aa-460e-a936-787454e82816",
   "metadata": {},
   "outputs": [],
   "source": [
    "# Set general path\n",
    "cwd = Path.cwd()"
   ]
  },
  {
   "cell_type": "code",
   "execution_count": null,
   "id": "3baeefa5-2212-4573-bcd0-762f7ace4ccc",
   "metadata": {},
   "outputs": [],
   "source": [
    "vax_data_path = cwd.parent.parent / Path(\"data/vaccination-data/vaccinations_OWID.csv\")\n",
    "data = pd.read_csv(vax_data_path)"
   ]
  },
  {
   "cell_type": "code",
   "execution_count": null,
   "id": "1fd012a2-be34-4204-adbc-d406f90730d3",
   "metadata": {},
   "outputs": [],
   "source": [
    "data"
   ]
  },
  {
   "cell_type": "code",
   "execution_count": null,
   "id": "52d4fb0b-ce40-4dbe-aea3-6a9d36e2c246",
   "metadata": {},
   "outputs": [],
   "source": [
    "# select countries\n",
    "countries = ['Malaysia','Philippines','Vietnam']\n",
    "\n",
    "vax_df = data.loc[data['location'].isin(countries)]"
   ]
  },
  {
   "cell_type": "code",
   "execution_count": null,
   "id": "481bc5ea-6bbb-4212-9e0b-fce0620c2c12",
   "metadata": {},
   "outputs": [],
   "source": [
    "vax_df_phl = vax_df.loc[vax_df['location'] == 'Philippines']\n",
    "vax_df_phl = vax_df_phl[['date', 'people_fully_vaccinated_per_hundred']]"
   ]
  },
  {
   "cell_type": "code",
   "execution_count": null,
   "id": "d36dac2d-3f98-494b-9303-b4c445624aa3",
   "metadata": {},
   "outputs": [],
   "source": [
    "vax_df_phl = vax_df_phl.set_index(vax_df_phl['date'])"
   ]
  },
  {
   "cell_type": "code",
   "execution_count": null,
   "id": "8e98e895-a525-4092-aca2-58ae1a9f6333",
   "metadata": {},
   "outputs": [],
   "source": [
    "vax_df_phl = vax_df_phl.interpolate()"
   ]
  },
  {
   "cell_type": "code",
   "execution_count": null,
   "id": "38d74f72-5a0a-42b7-91ac-466b02ee6fe4",
   "metadata": {},
   "outputs": [],
   "source": [
    "vax_df_phl"
   ]
  },
  {
   "cell_type": "code",
   "execution_count": null,
   "id": "b5d14567-dacf-4078-ab69-bf8ce2f2c6bd",
   "metadata": {},
   "outputs": [],
   "source": [
    "fig = px.line(vax_df_phl, x='date', y='people_fully_vaccinated_per_hundred')\n",
    "\n",
    "fig.show()"
   ]
  }
 ],
 "metadata": {
  "kernelspec": {
   "display_name": "wpr-renewal",
   "language": "python",
   "name": "wpr-renewal"
  },
  "language_info": {
   "codemirror_mode": {
    "name": "ipython",
    "version": 3
   },
   "file_extension": ".py",
   "mimetype": "text/x-python",
   "name": "python",
   "nbconvert_exporter": "python",
   "pygments_lexer": "ipython3",
   "version": "3.10.14"
  }
 },
 "nbformat": 4,
 "nbformat_minor": 5
}
