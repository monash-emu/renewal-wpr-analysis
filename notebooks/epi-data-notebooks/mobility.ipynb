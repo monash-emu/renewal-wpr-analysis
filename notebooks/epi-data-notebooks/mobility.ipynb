{
 "cells": [
  {
   "cell_type": "code",
   "execution_count": null,
   "id": "926debea-6c4f-44cf-b24c-d220011d2e0b",
   "metadata": {},
   "outputs": [],
   "source": [
    "import pandas as pd\n",
    "import plotly.express as px\n",
    "from pathlib import Path"
   ]
  },
  {
   "cell_type": "code",
   "execution_count": null,
   "id": "75e81f7e-04e1-456c-9da7-a1191a461df2",
   "metadata": {},
   "outputs": [],
   "source": [
    "# Set general path\n",
    "cwd = Path.cwd()"
   ]
  },
  {
   "cell_type": "code",
   "execution_count": null,
   "id": "9cdc123e-3f6d-478d-998c-1c708796ba1e",
   "metadata": {},
   "outputs": [],
   "source": [
    "mobility_data_path = cwd.parent.parent / Path(\"data/mobility-data/Global_Mobility_Report_data.csv\")\n",
    "data = pd.read_csv(mobility_data_path)"
   ]
  },
  {
   "cell_type": "code",
   "execution_count": null,
   "id": "96cd82a4-664f-48e1-b340-76e5a082bb63",
   "metadata": {},
   "outputs": [],
   "source": [
    "# select countries\n",
    "countries = ['Malaysia','Philippines','Vietnam']\n",
    "\n",
    "mob_df = data.loc[data['country_region'].isin(countries)]"
   ]
  },
  {
   "cell_type": "code",
   "execution_count": null,
   "id": "61bc55be-c450-4e09-ae06-86ddc475eed6",
   "metadata": {},
   "outputs": [],
   "source": [
    "mob_df['country_region'].unique()"
   ]
  },
  {
   "cell_type": "code",
   "execution_count": null,
   "id": "406c1327-68db-483a-91c4-fc88257d74c2",
   "metadata": {},
   "outputs": [],
   "source": [
    "mob_df_mys = mob_df.loc[mob_df['country_region'] == 'Malaysia']\n",
    "mob_df_mys = mob_df_mys.loc[mob_df_mys['sub_region_1'].isna()]"
   ]
  },
  {
   "cell_type": "code",
   "execution_count": null,
   "id": "b1437644-6761-4294-acbc-f2ff29fe793c",
   "metadata": {},
   "outputs": [],
   "source": [
    "fig = px.line(mob_df_mys, x='date', y=['retail_and_recreation_percent_change_from_baseline',\n",
    "       'grocery_and_pharmacy_percent_change_from_baseline',\n",
    "       'parks_percent_change_from_baseline',\n",
    "       'transit_stations_percent_change_from_baseline',\n",
    "       'workplaces_percent_change_from_baseline',\n",
    "       'residential_percent_change_from_baseline'])\n",
    "fig.show()"
   ]
  },
  {
   "cell_type": "code",
   "execution_count": null,
   "id": "26e45266-4410-4277-8ab5-2852c71fc246",
   "metadata": {},
   "outputs": [],
   "source": [
    "mob_df_phl = mob_df.loc[mob_df['country_region'] == 'Philippines']\n",
    "mob_df_phl = mob_df_phl.loc[mob_df_phl['sub_region_1'].isna()]\n",
    "mob_df_phl = mob_df_phl.loc[mob_df_phl['metro_area'].isna()]"
   ]
  },
  {
   "cell_type": "code",
   "execution_count": null,
   "id": "e7a753b2-46e9-44f2-b71c-d419f0441428",
   "metadata": {},
   "outputs": [],
   "source": [
    "mob_df_phl"
   ]
  },
  {
   "cell_type": "code",
   "execution_count": null,
   "id": "b2a35d68-9403-4658-b5d8-dd94ee7e0dca",
   "metadata": {},
   "outputs": [],
   "source": [
    "fig = px.line(mob_df_phl, x='date', y=['retail_and_recreation_percent_change_from_baseline',\n",
    "       'grocery_and_pharmacy_percent_change_from_baseline',\n",
    "       'parks_percent_change_from_baseline',\n",
    "       'transit_stations_percent_change_from_baseline',\n",
    "       'workplaces_percent_change_from_baseline',\n",
    "       'residential_percent_change_from_baseline'])\n",
    "fig.show()"
   ]
  },
  {
   "cell_type": "code",
   "execution_count": null,
   "id": "c3d10b1a-52e4-4e72-99a4-11d02c4f9d0e",
   "metadata": {},
   "outputs": [],
   "source": [
    "mob_df_vnm = mob_df.loc[mob_df['country_region'] == 'Vietnam']\n",
    "mob_df_vnm = mob_df_vnm.loc[mob_df_vnm['sub_region_1'].isna()]"
   ]
  },
  {
   "cell_type": "code",
   "execution_count": null,
   "id": "66f753a1-9908-40de-a87f-645cca59bdfb",
   "metadata": {},
   "outputs": [],
   "source": [
    "fig = px.line(mob_df_vnm, x='date', y=['retail_and_recreation_percent_change_from_baseline',\n",
    "       'grocery_and_pharmacy_percent_change_from_baseline',\n",
    "       'parks_percent_change_from_baseline',\n",
    "       'transit_stations_percent_change_from_baseline',\n",
    "       'workplaces_percent_change_from_baseline',\n",
    "       'residential_percent_change_from_baseline'])\n",
    "fig.show()"
   ]
  }
 ],
 "metadata": {
  "kernelspec": {
   "display_name": "wpr-renewal",
   "language": "python",
   "name": "wpr-renewal"
  },
  "language_info": {
   "codemirror_mode": {
    "name": "ipython",
    "version": 3
   },
   "file_extension": ".py",
   "mimetype": "text/x-python",
   "name": "python",
   "nbconvert_exporter": "python",
   "pygments_lexer": "ipython3",
   "version": "3.10.14"
  }
 },
 "nbformat": 4,
 "nbformat_minor": 5
}
