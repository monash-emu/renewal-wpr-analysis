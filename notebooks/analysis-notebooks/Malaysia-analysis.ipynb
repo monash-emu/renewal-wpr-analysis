{
 "cells": [
  {
   "cell_type": "raw",
   "id": "36cf22a9-52f8-47ef-84ad-750c9e7d2820",
   "metadata": {},
   "source": [
    "---\n",
    "title: \"Malaysia analysis\"\n",
    "bibliography: renew.bib\n",
    "format:\n",
    "  html:\n",
    "    code-fold: true\n",
    "jupyter: python3\n",
    "---"
   ]
  },
  {
   "cell_type": "code",
   "execution_count": null,
   "id": "375e03f5-6bc1-4983-8075-45d7d3f5654f",
   "metadata": {},
   "outputs": [],
   "source": [
    "from jax import jit, random\n",
    "import pandas as pd\n",
    "from datetime import datetime, timedelta\n",
    "import numpyro\n",
    "from numpyro import distributions as dist\n",
    "from numpyro import infer\n",
    "import arviz as az\n",
    "from IPython.display import Markdown\n",
    "from plotly.express.colors import qualitative as qual_colours\n",
    "from pathlib import Path\n",
    "import math\n",
    "import plotly.express as px\n",
    "import plotly.graph_objects as go\n",
    "from plotly.subplots import make_subplots\n",
    "from IPython.display import Markdown\n",
    "\n",
    "from estival.sampling import tools as esamp\n",
    "\n",
    "from emu_renewal.process import CosineMultiCurve\n",
    "from emu_renewal.distributions import GammaDens\n",
    "from emu_renewal.renew import RenewalModel\n",
    "from emu_renewal.outputs import get_spaghetti_from_params, get_quant_df_from_spaghetti, plot_spaghetti\n",
    "from emu_renewal.outputs import plot_uncertainty_patches, PANEL_SUBTITLES, plot_3d_spaghetti, plot_post_prior_comparison\n",
    "from emu_renewal.calibration import StandardCalib\n",
    "from emu_renewal.utils import get_adjust_idata_index, adjust_summary_cols"
   ]
  },
  {
   "cell_type": "code",
   "execution_count": null,
   "id": "a0a734ae-3ec3-4d58-9f5a-61cffbd47177",
   "metadata": {},
   "outputs": [],
   "source": [
    "# Set general path\n",
    "cwd = Path.cwd()"
   ]
  },
  {
   "cell_type": "code",
   "execution_count": null,
   "id": "522d03e7-c7b6-4dac-a07d-3096fe401d7d",
   "metadata": {},
   "outputs": [],
   "source": [
    "# Load in target data from WHO weekly time series\n",
    "target_data_path = cwd.parent.parent / Path(\"data/target-data/case-data.csv\")\n",
    "target_data = pd.read_csv(target_data_path, index_col=0)\n",
    "target_data.index = pd.to_datetime(target_data.index)\n",
    "\n",
    "# Load in emergence variant data\n",
    "emergence_data_path = cwd.parent.parent / Path(\"data/variant-data/variant-emergence.csv\")\n",
    "emergence_data = pd.read_csv(emergence_data_path, index_col=0)\n",
    "emergence_data = emergence_data[emergence_data[\"country\"] == \"Malaysia\"]\n",
    "\n",
    "# Load variant prevalence data"
   ]
  },
  {
   "cell_type": "code",
   "execution_count": null,
   "id": "dbd8f6ce-fcc1-4923-98bb-558d3a214b0e",
   "metadata": {},
   "outputs": [],
   "source": [
    "emergence_data"
   ]
  },
  {
   "cell_type": "code",
   "execution_count": null,
   "id": "a20aa476-67be-455d-ad00-f848d7bcac6f",
   "metadata": {},
   "outputs": [],
   "source": [
    "# Specify fixed parameters and get calibration data\n",
    "proc_update_freq = 21\n",
    "init_time = 50\n",
    "data = target_data['New_cases_MYS']\n",
    "pop = 33e6\n",
    "analysis_start = datetime(2021, 5, 1)\n",
    "analysis_end = datetime(2022, 4, 30)\n",
    "init_start = analysis_start - timedelta(init_time)\n",
    "init_end = analysis_start - timedelta(1)\n",
    "select_data = data.loc[analysis_start: analysis_end]\n",
    "init_data = data.resample(\"D\").asfreq().interpolate().loc[init_start: init_end] / 7.0"
   ]
  },
  {
   "cell_type": "code",
   "execution_count": null,
   "id": "6c474089-729c-4495-be21-0e187a26d3ac",
   "metadata": {},
   "outputs": [],
   "source": [
    "proc_fitter = CosineMultiCurve()\n",
    "renew_model = RenewalModel(pop, analysis_start, analysis_end, proc_update_freq, proc_fitter, GammaDens(), init_time, init_data, GammaDens())"
   ]
  },
  {
   "cell_type": "code",
   "execution_count": null,
   "id": "a10524aa-8a7c-49bf-b6c5-9e4ca02fae71",
   "metadata": {},
   "outputs": [],
   "source": [
    "# Define parameter ranges\n",
    "priors = {\n",
    "    \"gen_mean\": dist.TruncatedNormal(7.3, 0.5, low=1.0),\n",
    "    \"gen_sd\": dist.TruncatedNormal(3.8, 0.5, low=1.0),\n",
    "    \"cdr\": dist.Beta(4, 10),\n",
    "    \"rt_init\": dist.Normal(0.0, 0.25),\n",
    "    \"report_mean\": dist.TruncatedNormal(8, 0.5, low=1.0),\n",
    "    \"report_sd\": dist.TruncatedNormal(3, 0.5, low=1.0),\n",
    "}"
   ]
  },
  {
   "cell_type": "code",
   "execution_count": null,
   "id": "eeccf64e-d477-4243-be73-3781f860619f",
   "metadata": {},
   "outputs": [],
   "source": [
    "#| output: false\n",
    "calib = StandardCalib(renew_model, priors, select_data, indicator='weekly_sum')\n",
    "kernel = infer.NUTS(calib.calibration, dense_mass=True, init_strategy=infer.init_to_uniform(radius=0.5))\n",
    "mcmc = infer.MCMC(kernel, num_chains=2, num_samples=100, num_warmup=100)\n",
    "mcmc.run(random.PRNGKey(1))"
   ]
  },
  {
   "cell_type": "code",
   "execution_count": null,
   "id": "48b48eef",
   "metadata": {},
   "outputs": [],
   "source": [
    "idata = az.from_dict(mcmc.get_samples(True))\n",
    "idata_sampled = az.extract(idata, num_samples=200)\n",
    "sample_params = esamp.xarray_to_sampleiterator(idata_sampled)"
   ]
  },
  {
   "cell_type": "code",
   "execution_count": null,
   "id": "65cf18e6-402e-42e7-93fa-081e0ed2885a",
   "metadata": {},
   "outputs": [],
   "source": []
  },
  {
   "cell_type": "code",
   "execution_count": null,
   "id": "365ab689-806e-49a9-90e6-db3e5ade10d0",
   "metadata": {},
   "outputs": [],
   "source": [
    "def get_full_result(gen_mean, gen_sd, proc, cdr, rt_init, report_mean, report_sd):\n",
    "    return renew_model.renewal_func(gen_mean, gen_sd, proc, cdr, rt_init, report_mean, report_sd)\n",
    "\n",
    "full_wrap = jit(get_full_result)"
   ]
  },
  {
   "cell_type": "code",
   "execution_count": null,
   "id": "3c511019-2a21-4452-afc2-e02e1c4a26f0",
   "metadata": {},
   "outputs": [],
   "source": [
    "def get_full_result(gen_mean, gen_sd, proc, cdr, rt_init, report_mean, report_sd):\n",
    "    return renew_model.renewal_func(gen_mean, gen_sd, proc, cdr, rt_init, report_mean, report_sd)\n",
    "\n",
    "full_wrap = jit(get_full_result)\n",
    "panel_subtitles = [\"weekly_sum\"] + PANEL_SUBTITLES[1:]\n",
    "spaghetti = get_spaghetti_from_params(renew_model, sample_params, full_wrap, outputs=panel_subtitles)\n",
    "quantiles_df = get_quant_df_from_spaghetti(renew_model, spaghetti, quantiles=[0.05, 0.5, 0.95], outputs=panel_subtitles)\n",
    "plot_uncertainty_patches(quantiles_df, select_data, qual_colours.Plotly, panel_subtitles).update_layout(showlegend=False)\n",
    "\n",
    "#fig.add_vline(x=datetime(2021, 9, 5))"
   ]
  },
  {
   "cell_type": "code",
   "execution_count": null,
   "id": "1b68b137-8456-4f99-9fc0-5fa87d2d2d3a",
   "metadata": {},
   "outputs": [],
   "source": [
    "quantiles_df"
   ]
  },
  {
   "cell_type": "code",
   "execution_count": null,
   "id": "f38b5b59-9d8f-4597-b3d1-3730545f2bfd",
   "metadata": {},
   "outputs": [],
   "source": [
    "qual_colours.Plotly"
   ]
  },
  {
   "cell_type": "code",
   "execution_count": null,
   "id": "93256539",
   "metadata": {},
   "outputs": [],
   "source": [
    "fig = make_subplots(2,1, shared_xaxes=True)\n",
    "\n",
    "# cases and modelled cases\n",
    "fig.add_trace(go.Scatter(x=quantiles_df.index, y=quantiles_df[\"weekly_sum\"][0.50], mode=\"lines\", name=\"Modelled cases\", marker_color='#636EFA' ), row=1, col=1)\n",
    "fig.add_traces([go.Scatter(x=quantiles_df.index, y=quantiles_df[\"weekly_sum\"][0.05], mode=\"lines\", name=\"Rt\", marker_color='#636EFA', showlegend=False),\n",
    "               go.Scatter(x=quantiles_df.index, y=quantiles_df[\"weekly_sum\"][0.95], mode=\"lines\", name=\"Rt\", marker_color='#636EFA', showlegend=False, fill='tonexty')],\n",
    "              rows=1, cols=1)\n",
    "fig.add_trace(go.Scatter(x=select_data.index, y=select_data,  mode=\"markers\", name=\"Reported cases\", marker_color=\"black\" ), row=1, col=1)\n",
    "\n",
    "# add Rt\n",
    "fig.add_trace(go.Scatter(x=quantiles_df.index, y=quantiles_df[\"R\"][0.50], mode=\"lines\", name=\"Rt\", marker_color='#00CC96' ), row=2, col=1)\n",
    "fig.add_traces([go.Scatter(x=quantiles_df.index, y=quantiles_df[\"R\"][0.05], mode=\"lines\", name=\"Rt\", marker_color='#00CC96', showlegend=False),\n",
    "               go.Scatter(x=quantiles_df.index, y=quantiles_df[\"R\"][0.95], mode=\"lines\", name=\"Rt\", marker_color='#00CC96', showlegend=False, fill='tonexty')],\n",
    "              rows=2, cols=1)\n",
    "\n",
    "# add vlines of variants\n",
    "#fig.add_vline(x=datetime(2021, 11, 8)) # Omicron emergence\n",
    "#fig.add_vline(x=datetime.strptime(\"2021-11-08\", \"%Y-%m-%d\").timestamp() * 1000, annotation_text=\"Omicron emergence\") # Omicron emergence\n",
    "fig.add_vline(x=datetime.strptime(\"2021-12-06\", \"%Y-%m-%d\").timestamp() * 1000, \n",
    "              annotation_text=\"Omicron sequence prevalence >10%\", annotation_position=\"right\")\n",
    "\n",
    "# add vrect of lockdown\n",
    "fig.add_vrect(x0=datetime.strptime(\"2021-06-01\", \"%Y-%m-%d\").timestamp() * 1000, x1=datetime.strptime(\"2021-07-05\", \"%Y-%m-%d\").timestamp() * 1000,\n",
    "             annotation_text=\"Phase 1\", annotation_position=\"top left\",\n",
    "             fillcolor='#FFA15A', opacity=0.50, line_width=0)# Phase 1 mco\n",
    "fig.add_vrect(x0=datetime.strptime(\"2021-07-05\", \"%Y-%m-%d\").timestamp() * 1000, x1=datetime.strptime(\"2021-08-04\", \"%Y-%m-%d\").timestamp() * 1000,\n",
    "             annotation_text=\"Phase 2\", annotation_position=\"top left\",\n",
    "             fillcolor='#FFA15A', opacity=0.30, line_width=0)\n",
    "fig.add_vrect(x0=datetime.strptime(\"2021-08-04\", \"%Y-%m-%d\").timestamp() * 1000, x1=datetime.strptime(\"2021-08-26\", \"%Y-%m-%d\").timestamp() * 1000,\n",
    "             annotation_text=\"Phase 3\", annotation_position=\"top left\",\n",
    "             fillcolor='#FFA15A', opacity=0.20, line_width=0)\n",
    "fig.add_vrect(x0=datetime.strptime(\"2021-08-26\", \"%Y-%m-%d\").timestamp() * 1000, x1=datetime.strptime(\"2022-01-03\", \"%Y-%m-%d\").timestamp() * 1000,\n",
    "             annotation_text=\"Phase 4\", annotation_position=\"top left\",\n",
    "             fillcolor='#FFA15A', opacity=0.10, line_width=0)\n",
    "\n",
    "\n",
    "# add vlines of measures\n",
    "#fig.add_vline(x=datetime(2021, 7, 5)) # Phase 2 mco\n",
    "#fig.add_vline(x=datetime(2021, 8, 4)) # Phase 3 mco\n",
    "#fig.add_vline(x=datetime(2021, 8, 26)) # Phase 3 mco\n",
    "\n",
    "fig.update_xaxes()\n",
    "fig.update_layout(height=700, width=1200)\n",
    "\n",
    "fig.show()"
   ]
  },
  {
   "cell_type": "code",
   "execution_count": null,
   "id": "f8bb0f60",
   "metadata": {},
   "outputs": [],
   "source": [
    "az.summary(idata)"
   ]
  },
  {
   "cell_type": "code",
   "execution_count": null,
   "id": "deda732f",
   "metadata": {},
   "outputs": [],
   "source": [
    "plot_post_prior_comparison(idata, list(priors.keys()), priors);"
   ]
  },
  {
   "cell_type": "code",
   "execution_count": null,
   "id": "f61c462d-d5a4-4eee-ab28-2747a5c7b23b",
   "metadata": {},
   "outputs": [],
   "source": [
    "Markdown(renew_model.get_description())"
   ]
  }
 ],
 "metadata": {
  "kernelspec": {
   "display_name": "wpr-renewal",
   "language": "python",
   "name": "wpr-renewal"
  },
  "language_info": {
   "codemirror_mode": {
    "name": "ipython",
    "version": 3
   },
   "file_extension": ".py",
   "mimetype": "text/x-python",
   "name": "python",
   "nbconvert_exporter": "python",
   "pygments_lexer": "ipython3",
   "version": "3.10.14"
  }
 },
 "nbformat": 4,
 "nbformat_minor": 5
}
