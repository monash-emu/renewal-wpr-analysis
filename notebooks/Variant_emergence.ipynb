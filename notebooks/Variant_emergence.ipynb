{
 "cells": [
  {
   "cell_type": "code",
   "execution_count": 92,
   "id": "30bd9766-b806-4a88-be13-ecbe10d166e7",
   "metadata": {},
   "outputs": [],
   "source": [
    "import pandas as pd\n",
    "import plotly.express as px\n",
    "import numpy as np\n",
    "import json\n",
    "import requests\n"
   ]
  },
  {
   "cell_type": "code",
   "execution_count": null,
   "id": "463838f3-9c5e-4cb8-9c8c-6b043e925c67",
   "metadata": {},
   "outputs": [],
   "source": [
    "# Code for grabbing variant props for covariants github\n",
    "# Data from covariants cluster tables https://github.com/hodcroftlab/covariants/tree/master/cluster_tables, covariants.org"
   ]
  },
  {
   "cell_type": "code",
   "execution_count": 100,
   "id": "8ef0466d-a578-45b5-8a2f-f925c89d4b43",
   "metadata": {},
   "outputs": [],
   "source": [
    "import pathlib\n",
    "p = pathlib.Path('../data/20H.Beta.V2_data.json')"
   ]
  },
  {
   "cell_type": "code",
   "execution_count": 102,
   "id": "e56cc2ac-f02e-482a-a5dd-2378fa761725",
   "metadata": {},
   "outputs": [],
   "source": [
    "d = srsly.read_json(p)"
   ]
  },
  {
   "cell_type": "code",
   "execution_count": 91,
   "id": "6fa2d770-4285-413e-9c1e-e380326a3ef9",
   "metadata": {},
   "outputs": [],
   "source": [
    "import requests\n",
    "\n",
    "url = r'https://raw.githubusercontent.com/monash-emu/renewal-wpr-analysis/main/data/20H.Beta.V2_data.json'\n",
    "resp = requests.get(url)\n",
    "data = json.loads(resp.text)"
   ]
  },
  {
   "cell_type": "code",
   "execution_count": 94,
   "id": "a158aa02-929c-4e67-8259-65f35280c4a8",
   "metadata": {},
   "outputs": [],
   "source": [
    "Beta_20H = json.loads(requests.get(r'https://raw.githubusercontent.com/monash-emu/renewal-wpr-analysis/main/data/20H.Beta.V2_data.json').text)"
   ]
  },
  {
   "cell_type": "code",
   "execution_count": 99,
   "id": "04fc5a70-66d2-4094-a0b6-2f93a0483acf",
   "metadata": {},
   "outputs": [
    {
     "ename": "FileNotFoundError",
     "evalue": "[Errno 2] No such file or directory: '404: Not Found'",
     "output_type": "error",
     "traceback": [
      "\u001b[1;31m---------------------------------------------------------------------------\u001b[0m",
      "\u001b[1;31mFileNotFoundError\u001b[0m                         Traceback (most recent call last)",
      "Cell \u001b[1;32mIn[99], line 2\u001b[0m\n\u001b[0;32m      1\u001b[0m Delta_21A \u001b[38;5;241m=\u001b[39m []\n\u001b[1;32m----> 2\u001b[0m \u001b[38;5;28;01mwith\u001b[39;00m \u001b[38;5;28;43mopen\u001b[39;49m\u001b[43m(\u001b[49m\u001b[43mrequests\u001b[49m\u001b[38;5;241;43m.\u001b[39;49m\u001b[43mget\u001b[49m\u001b[43m(\u001b[49m\u001b[38;5;124;43mr\u001b[39;49m\u001b[38;5;124;43m'\u001b[39;49m\u001b[38;5;124;43mhttps://raw.githubusercontent.com/monash-emu/renewal-wpr-analysis/main/21A.Delta_data.json\u001b[39;49m\u001b[38;5;124;43m'\u001b[39;49m\u001b[43m)\u001b[49m\u001b[38;5;241;43m.\u001b[39;49m\u001b[43mtext\u001b[49m\u001b[43m,\u001b[49m\u001b[43m \u001b[49m\u001b[38;5;124;43m'\u001b[39;49m\u001b[38;5;124;43mr\u001b[39;49m\u001b[38;5;124;43m'\u001b[39;49m\u001b[43m)\u001b[49m \u001b[38;5;28;01mas\u001b[39;00m file:\n\u001b[0;32m      3\u001b[0m     \u001b[38;5;28;01mfor\u001b[39;00m line \u001b[38;5;129;01min\u001b[39;00m file:\n\u001b[0;32m      4\u001b[0m         Delta_21A\u001b[38;5;241m.\u001b[39mappend(json\u001b[38;5;241m.\u001b[39mloads(line))\n",
      "File \u001b[1;32m~\\Miniconda3\\envs\\renewal\\lib\\site-packages\\IPython\\core\\interactiveshell.py:324\u001b[0m, in \u001b[0;36m_modified_open\u001b[1;34m(file, *args, **kwargs)\u001b[0m\n\u001b[0;32m    317\u001b[0m \u001b[38;5;28;01mif\u001b[39;00m file \u001b[38;5;129;01min\u001b[39;00m {\u001b[38;5;241m0\u001b[39m, \u001b[38;5;241m1\u001b[39m, \u001b[38;5;241m2\u001b[39m}:\n\u001b[0;32m    318\u001b[0m     \u001b[38;5;28;01mraise\u001b[39;00m \u001b[38;5;167;01mValueError\u001b[39;00m(\n\u001b[0;32m    319\u001b[0m         \u001b[38;5;124mf\u001b[39m\u001b[38;5;124m\"\u001b[39m\u001b[38;5;124mIPython won\u001b[39m\u001b[38;5;124m'\u001b[39m\u001b[38;5;124mt let you open fd=\u001b[39m\u001b[38;5;132;01m{\u001b[39;00mfile\u001b[38;5;132;01m}\u001b[39;00m\u001b[38;5;124m by default \u001b[39m\u001b[38;5;124m\"\u001b[39m\n\u001b[0;32m    320\u001b[0m         \u001b[38;5;124m\"\u001b[39m\u001b[38;5;124mas it is likely to crash IPython. If you know what you are doing, \u001b[39m\u001b[38;5;124m\"\u001b[39m\n\u001b[0;32m    321\u001b[0m         \u001b[38;5;124m\"\u001b[39m\u001b[38;5;124myou can use builtins\u001b[39m\u001b[38;5;124m'\u001b[39m\u001b[38;5;124m open.\u001b[39m\u001b[38;5;124m\"\u001b[39m\n\u001b[0;32m    322\u001b[0m     )\n\u001b[1;32m--> 324\u001b[0m \u001b[38;5;28;01mreturn\u001b[39;00m io_open(file, \u001b[38;5;241m*\u001b[39margs, \u001b[38;5;241m*\u001b[39m\u001b[38;5;241m*\u001b[39mkwargs)\n",
      "\u001b[1;31mFileNotFoundError\u001b[0m: [Errno 2] No such file or directory: '404: Not Found'"
     ]
    }
   ],
   "source": [
    "Delta_21A = []\n",
    "with open(requests.get(r'https://raw.githubusercontent.com/monash-emu/renewal-wpr-analysis/main/21A.Delta_data.json').text, 'r') as file:\n",
    "    for line in file:\n",
    "        Delta_21A.append(json.loads(line))"
   ]
  },
  {
   "cell_type": "code",
   "execution_count": 96,
   "id": "7e912547-4bfe-43bd-ada8-1f5f8a48be58",
   "metadata": {},
   "outputs": [
    {
     "ename": "JSONDecodeError",
     "evalue": "Extra data: line 1 column 4 (char 3)",
     "output_type": "error",
     "traceback": [
      "\u001b[1;31m---------------------------------------------------------------------------\u001b[0m",
      "\u001b[1;31mJSONDecodeError\u001b[0m                           Traceback (most recent call last)",
      "Cell \u001b[1;32mIn[96], line 4\u001b[0m\n\u001b[0;32m      2\u001b[0m Beta_20H \u001b[38;5;241m=\u001b[39m json\u001b[38;5;241m.\u001b[39mloads(requests\u001b[38;5;241m.\u001b[39mget(\u001b[38;5;124mr\u001b[39m\u001b[38;5;124m'\u001b[39m\u001b[38;5;124mhttps://raw.githubusercontent.com/monash-emu/renewal-wpr-analysis/main/data/20H.Beta.V2_data.json\u001b[39m\u001b[38;5;124m'\u001b[39m)\u001b[38;5;241m.\u001b[39mtext)\n\u001b[0;32m      3\u001b[0m Alpha_20I \u001b[38;5;241m=\u001b[39m json\u001b[38;5;241m.\u001b[39mloads(requests\u001b[38;5;241m.\u001b[39mget(\u001b[38;5;124mr\u001b[39m\u001b[38;5;124m'\u001b[39m\u001b[38;5;124mhttps://raw.githubusercontent.com/monash-emu/renewal-wpr-analysis/main/data/20I.Alpha.V1_data.json\u001b[39m\u001b[38;5;124m'\u001b[39m)\u001b[38;5;241m.\u001b[39mtext)\n\u001b[1;32m----> 4\u001b[0m Delta_21A \u001b[38;5;241m=\u001b[39m \u001b[43mjson\u001b[49m\u001b[38;5;241;43m.\u001b[39;49m\u001b[43mloads\u001b[49m\u001b[43m(\u001b[49m\u001b[43mrequests\u001b[49m\u001b[38;5;241;43m.\u001b[39;49m\u001b[43mget\u001b[49m\u001b[43m(\u001b[49m\u001b[38;5;124;43mr\u001b[39;49m\u001b[38;5;124;43m'\u001b[39;49m\u001b[38;5;124;43mhttps://raw.githubusercontent.com/monash-emu/renewal-wpr-analysis/main/21A.Delta_data.json\u001b[39;49m\u001b[38;5;124;43m'\u001b[39;49m\u001b[43m)\u001b[49m\u001b[38;5;241;43m.\u001b[39;49m\u001b[43mtext\u001b[49m\u001b[43m)\u001b[49m\n\u001b[0;32m      5\u001b[0m Delta_21I \u001b[38;5;241m=\u001b[39m json\u001b[38;5;241m.\u001b[39mloads(requests\u001b[38;5;241m.\u001b[39mget(\u001b[38;5;124mr\u001b[39m\u001b[38;5;124m'\u001b[39m\u001b[38;5;124mhttps://raw.githubusercontent.com/monash-emu/renewal-wpr-analysis/main/21I.Delta_data.json\u001b[39m\u001b[38;5;124m'\u001b[39m)\u001b[38;5;241m.\u001b[39mtext)\n\u001b[0;32m      6\u001b[0m Delta_21J \u001b[38;5;241m=\u001b[39m json\u001b[38;5;241m.\u001b[39mloads(requests\u001b[38;5;241m.\u001b[39mget(\u001b[38;5;124mr\u001b[39m\u001b[38;5;124m'\u001b[39m\u001b[38;5;124mhttps://raw.githubusercontent.com/monash-emu/renewal-wpr-analysis/main/21J.Delta_data.json\u001b[39m\u001b[38;5;124m'\u001b[39m)\u001b[38;5;241m.\u001b[39mtext)\n",
      "File \u001b[1;32m~\\Miniconda3\\envs\\renewal\\lib\\json\\__init__.py:346\u001b[0m, in \u001b[0;36mloads\u001b[1;34m(s, cls, object_hook, parse_float, parse_int, parse_constant, object_pairs_hook, **kw)\u001b[0m\n\u001b[0;32m    341\u001b[0m     s \u001b[38;5;241m=\u001b[39m s\u001b[38;5;241m.\u001b[39mdecode(detect_encoding(s), \u001b[38;5;124m'\u001b[39m\u001b[38;5;124msurrogatepass\u001b[39m\u001b[38;5;124m'\u001b[39m)\n\u001b[0;32m    343\u001b[0m \u001b[38;5;28;01mif\u001b[39;00m (\u001b[38;5;28mcls\u001b[39m \u001b[38;5;129;01mis\u001b[39;00m \u001b[38;5;28;01mNone\u001b[39;00m \u001b[38;5;129;01mand\u001b[39;00m object_hook \u001b[38;5;129;01mis\u001b[39;00m \u001b[38;5;28;01mNone\u001b[39;00m \u001b[38;5;129;01mand\u001b[39;00m\n\u001b[0;32m    344\u001b[0m         parse_int \u001b[38;5;129;01mis\u001b[39;00m \u001b[38;5;28;01mNone\u001b[39;00m \u001b[38;5;129;01mand\u001b[39;00m parse_float \u001b[38;5;129;01mis\u001b[39;00m \u001b[38;5;28;01mNone\u001b[39;00m \u001b[38;5;129;01mand\u001b[39;00m\n\u001b[0;32m    345\u001b[0m         parse_constant \u001b[38;5;129;01mis\u001b[39;00m \u001b[38;5;28;01mNone\u001b[39;00m \u001b[38;5;129;01mand\u001b[39;00m object_pairs_hook \u001b[38;5;129;01mis\u001b[39;00m \u001b[38;5;28;01mNone\u001b[39;00m \u001b[38;5;129;01mand\u001b[39;00m \u001b[38;5;129;01mnot\u001b[39;00m kw):\n\u001b[1;32m--> 346\u001b[0m     \u001b[38;5;28;01mreturn\u001b[39;00m \u001b[43m_default_decoder\u001b[49m\u001b[38;5;241;43m.\u001b[39;49m\u001b[43mdecode\u001b[49m\u001b[43m(\u001b[49m\u001b[43ms\u001b[49m\u001b[43m)\u001b[49m\n\u001b[0;32m    347\u001b[0m \u001b[38;5;28;01mif\u001b[39;00m \u001b[38;5;28mcls\u001b[39m \u001b[38;5;129;01mis\u001b[39;00m \u001b[38;5;28;01mNone\u001b[39;00m:\n\u001b[0;32m    348\u001b[0m     \u001b[38;5;28mcls\u001b[39m \u001b[38;5;241m=\u001b[39m JSONDecoder\n",
      "File \u001b[1;32m~\\Miniconda3\\envs\\renewal\\lib\\json\\decoder.py:340\u001b[0m, in \u001b[0;36mJSONDecoder.decode\u001b[1;34m(self, s, _w)\u001b[0m\n\u001b[0;32m    338\u001b[0m end \u001b[38;5;241m=\u001b[39m _w(s, end)\u001b[38;5;241m.\u001b[39mend()\n\u001b[0;32m    339\u001b[0m \u001b[38;5;28;01mif\u001b[39;00m end \u001b[38;5;241m!=\u001b[39m \u001b[38;5;28mlen\u001b[39m(s):\n\u001b[1;32m--> 340\u001b[0m     \u001b[38;5;28;01mraise\u001b[39;00m JSONDecodeError(\u001b[38;5;124m\"\u001b[39m\u001b[38;5;124mExtra data\u001b[39m\u001b[38;5;124m\"\u001b[39m, s, end)\n\u001b[0;32m    341\u001b[0m \u001b[38;5;28;01mreturn\u001b[39;00m obj\n",
      "\u001b[1;31mJSONDecodeError\u001b[0m: Extra data: line 1 column 4 (char 3)"
     ]
    }
   ],
   "source": [
    "# Read json files into dictionaries\n",
    "Beta_20H = json.loads(requests.get(r'https://raw.githubusercontent.com/monash-emu/renewal-wpr-analysis/main/data/20H.Beta.V2_data.json').text)\n",
    "Alpha_20I = json.loads(requests.get(r'https://raw.githubusercontent.com/monash-emu/renewal-wpr-analysis/main/data/20I.Alpha.V1_data.json').text)\n",
    "Delta_21A = json.loads(requests.get(r'https://raw.githubusercontent.com/monash-emu/renewal-wpr-analysis/main/21A.Delta_data.json').text)\n",
    "Delta_21I = json.loads(requests.get(r'https://raw.githubusercontent.com/monash-emu/renewal-wpr-analysis/main/21I.Delta_data.json').text)\n",
    "Delta_21J = json.loads(requests.get(r'https://raw.githubusercontent.com/monash-emu/renewal-wpr-analysis/main/21J.Delta_data.json').text)\n",
    "Omicron_21K_BA1 = json.loads(requests.get(r'https://raw.githubusercontent.com/monash-emu/renewal-wpr-analysis/main/21K.Omicron_data.json').text)\n",
    "Omicron_21L_BA2 = json.loads(requests.get(r'https://raw.githubusercontent.com/monash-emu/renewal-wpr-analysis/main/21L.Omicron_data.json').text)\n",
    "Omicron_22A_BA4 = json.loads(requests.get(r'https://raw.githubusercontent.com/monash-emu/renewal-wpr-analysis/main/22A.Omicron_data.json').text)\n",
    "Omicron_22B_BA5 = json.loads(requests.get(r'https://raw.githubusercontent.com/monash-emu/renewal-wpr-analysis/main/22B.Omicron_data.json').text)"
   ]
  },
  {
   "cell_type": "code",
   "execution_count": 97,
   "id": "92955cfa-a530-471c-9f0d-d9122f3527fb",
   "metadata": {},
   "outputs": [],
   "source": [
    "# Read json files into dictionaries\n",
    "Beta_20H = srsly.read_json(r'C:\\Users\\ehug0006\\emu\\variant_data_covariants\\20H.Beta.V2_data.json')\n",
    "Alpha_20I = srsly.read_json(r'C:\\Users\\ehug0006\\emu\\variant_data_covariants\\20I.Alpha.V1_data.json')\n",
    "Delta_21A = srsly.read_json(r'C:\\Users\\ehug0006\\emu\\variant_data_covariants\\21A.Delta_data.json')\n",
    "Delta_21I = srsly.read_json(r'C:\\Users\\ehug0006\\emu\\variant_data_covariants\\21I.Delta_data.json')\n",
    "Delta_21J = srsly.read_json(r'C:\\Users\\ehug0006\\emu\\variant_data_covariants\\21J.Delta_data.json')\n",
    "Omicron_21K_BA1 = srsly.read_json(r'C:\\Users\\ehug0006\\emu\\variant_data_covariants\\21K.Omicron_data.json')\n",
    "Omicron_21L_BA2 = srsly.read_json(r'C:\\Users\\ehug0006\\emu\\variant_data_covariants\\21L.Omicron_data.json')\n",
    "Omicron_22A_BA4 = srsly.read_json(r'C:\\Users\\ehug0006\\emu\\variant_data_covariants\\22A.Omicron_data.json')\n",
    "Omicron_22B_BA5 = srsly.read_json(r'C:\\Users\\ehug0006\\emu\\variant_data_covariants\\22B.Omicron_data.json')"
   ]
  },
  {
   "cell_type": "code",
   "execution_count": 6,
   "id": "ff543d3d-23c4-4e40-af32-54032bf48360",
   "metadata": {},
   "outputs": [],
   "source": [
    "# Combine variant dictionaries into single nested dictionary\n",
    "variant_data_dict = {'Beta_20H':Beta_20H,\n",
    "                    'Alpha_20I':Alpha_20I,\n",
    "                     'Delta_21A':Delta_21A,\n",
    "                     'Delta_21I':Delta_21I,\n",
    "                     'Delta_21J': Delta_21J,\n",
    "                     'Omicron_21K_BA1': Omicron_21K_BA1,\n",
    "                     'Omicron_21L_BA2': Omicron_21L_BA2,\n",
    "                     'Omicron_22A_BA4': Omicron_22A_BA4,\n",
    "                     'Omicron_22B_BA5':Omicron_22B_BA5\n",
    "                    }"
   ]
  },
  {
   "cell_type": "code",
   "execution_count": 7,
   "id": "d4cf9c03-8d24-4a48-b429-a8402faf4da7",
   "metadata": {},
   "outputs": [],
   "source": [
    "# create dataframe from nested variant dictionary\n",
    "df = pd.DataFrame()\n",
    "\n",
    "for variant,country in variant_data_dict.items():\n",
    "    for c in country:\n",
    "        new_df = pd.DataFrame(country[c])\n",
    "        new_df['country'] = c\n",
    "        new_df['variant'] = variant\n",
    "        df = pd.concat([df, new_df])\n",
    "        \n",
    "# create new variant proportion column\n",
    "df['variant_prop'] = df['cluster_sequences']/df['total_sequences']"
   ]
  },
  {
   "cell_type": "code",
   "execution_count": 8,
   "id": "0545d158-b757-4e6b-887e-febe454f9ad3",
   "metadata": {},
   "outputs": [
    {
     "data": {
      "text/html": [
       "<div>\n",
       "<style scoped>\n",
       "    .dataframe tbody tr th:only-of-type {\n",
       "        vertical-align: middle;\n",
       "    }\n",
       "\n",
       "    .dataframe tbody tr th {\n",
       "        vertical-align: top;\n",
       "    }\n",
       "\n",
       "    .dataframe thead th {\n",
       "        text-align: right;\n",
       "    }\n",
       "</style>\n",
       "<table border=\"1\" class=\"dataframe\">\n",
       "  <thead>\n",
       "    <tr style=\"text-align: right;\">\n",
       "      <th></th>\n",
       "      <th>week</th>\n",
       "      <th>total_sequences</th>\n",
       "      <th>cluster_sequences</th>\n",
       "      <th>country</th>\n",
       "      <th>variant</th>\n",
       "      <th>variant_prop</th>\n",
       "    </tr>\n",
       "  </thead>\n",
       "  <tbody>\n",
       "    <tr>\n",
       "      <th>0</th>\n",
       "      <td>2020-04-27</td>\n",
       "      <td>162</td>\n",
       "      <td>0</td>\n",
       "      <td>South Africa</td>\n",
       "      <td>Beta_20H</td>\n",
       "      <td>0.0</td>\n",
       "    </tr>\n",
       "    <tr>\n",
       "      <th>1</th>\n",
       "      <td>2020-05-11</td>\n",
       "      <td>108</td>\n",
       "      <td>0</td>\n",
       "      <td>South Africa</td>\n",
       "      <td>Beta_20H</td>\n",
       "      <td>0.0</td>\n",
       "    </tr>\n",
       "    <tr>\n",
       "      <th>2</th>\n",
       "      <td>2020-05-25</td>\n",
       "      <td>120</td>\n",
       "      <td>0</td>\n",
       "      <td>South Africa</td>\n",
       "      <td>Beta_20H</td>\n",
       "      <td>0.0</td>\n",
       "    </tr>\n",
       "    <tr>\n",
       "      <th>3</th>\n",
       "      <td>2020-06-08</td>\n",
       "      <td>190</td>\n",
       "      <td>0</td>\n",
       "      <td>South Africa</td>\n",
       "      <td>Beta_20H</td>\n",
       "      <td>0.0</td>\n",
       "    </tr>\n",
       "    <tr>\n",
       "      <th>4</th>\n",
       "      <td>2020-06-22</td>\n",
       "      <td>340</td>\n",
       "      <td>0</td>\n",
       "      <td>South Africa</td>\n",
       "      <td>Beta_20H</td>\n",
       "      <td>0.0</td>\n",
       "    </tr>\n",
       "  </tbody>\n",
       "</table>\n",
       "</div>"
      ],
      "text/plain": [
       "         week  total_sequences  cluster_sequences       country   variant  \\\n",
       "0  2020-04-27              162                  0  South Africa  Beta_20H   \n",
       "1  2020-05-11              108                  0  South Africa  Beta_20H   \n",
       "2  2020-05-25              120                  0  South Africa  Beta_20H   \n",
       "3  2020-06-08              190                  0  South Africa  Beta_20H   \n",
       "4  2020-06-22              340                  0  South Africa  Beta_20H   \n",
       "\n",
       "   variant_prop  \n",
       "0           0.0  \n",
       "1           0.0  \n",
       "2           0.0  \n",
       "3           0.0  \n",
       "4           0.0  "
      ]
     },
     "execution_count": 8,
     "metadata": {},
     "output_type": "execute_result"
    }
   ],
   "source": [
    "df.head()"
   ]
  },
  {
   "cell_type": "code",
   "execution_count": null,
   "id": "f878770d-3f2a-4b8d-822e-533f6d31958b",
   "metadata": {},
   "outputs": [],
   "source": [
    "# select countries\n",
    "countries = ['Malaysia', 'Philippines', 'Vietnam']\n",
    "\n",
    "df_analysis = df.loc[df['country'].isin(countries)]"
   ]
  },
  {
   "cell_type": "code",
   "execution_count": null,
   "id": "bbe04518-1507-4c1e-9abc-7c8b442a559b",
   "metadata": {},
   "outputs": [],
   "source": [
    "# identify week first time proportion goes above a threshold\n",
    "threshold = 0.01\n",
    "\n",
    "emergence_df = df_analysis.loc[df_analysis.variant_prop>threshold].groupby(['country','variant']).head(2)"
   ]
  }
 ],
 "metadata": {
  "kernelspec": {
   "display_name": "renewal",
   "language": "python",
   "name": "renewal"
  },
  "language_info": {
   "codemirror_mode": {
    "name": "ipython",
    "version": 3
   },
   "file_extension": ".py",
   "mimetype": "text/x-python",
   "name": "python",
   "nbconvert_exporter": "python",
   "pygments_lexer": "ipython3",
   "version": "3.10.14"
  }
 },
 "nbformat": 4,
 "nbformat_minor": 5
}
