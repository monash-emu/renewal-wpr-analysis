{
 "cells": [
  {
   "cell_type": "code",
   "execution_count": null,
   "id": "30bd9766-b806-4a88-be13-ecbe10d166e7",
   "metadata": {},
   "outputs": [],
   "source": [
    "import pandas as pd\n",
    "import plotly.express as px\n",
    "import numpy as np\n",
    "import srsly"
   ]
  },
  {
   "cell_type": "code",
   "execution_count": null,
   "id": "463838f3-9c5e-4cb8-9c8c-6b043e925c67",
   "metadata": {},
   "outputs": [],
   "source": [
    "# Code for grabbing variant props for covariants github\n",
    "# Data from covariants cluster tables https://github.com/hodcroftlab/covariants/tree/master/cluster_tables, covariants.org"
   ]
  },
  {
   "cell_type": "code",
   "execution_count": null,
   "id": "7e912547-4bfe-43bd-ada8-1f5f8a48be58",
   "metadata": {},
   "outputs": [],
   "source": [
    "# Read json files into dictionaries\n",
    "Beta_20H = srsly.read_json(r'C:\\Users\\ehug0006\\emu\\variant_data_covariants\\20H.Beta.V2_data.json')\n",
    "Alpha_20I = srsly.read_json(r'C:\\Users\\ehug0006\\emu\\variant_data_covariants\\20I.Alpha.V1_data.json')\n",
    "Delta_21A = srsly.read_json(r'C:\\Users\\ehug0006\\emu\\variant_data_covariants\\21A.Delta_data.json')\n",
    "Delta_21I = srsly.read_json(r'C:\\Users\\ehug0006\\emu\\variant_data_covariants\\21I.Delta_data.json')\n",
    "Delta_21J = srsly.read_json(r'C:\\Users\\ehug0006\\emu\\variant_data_covariants\\21J.Delta_data.json')\n",
    "Omicron_21K_BA1 = srsly.read_json(r'C:\\Users\\ehug0006\\emu\\variant_data_covariants\\21K.Omicron_data.json')\n",
    "Omicron_21L_BA2 = srsly.read_json(r'C:\\Users\\ehug0006\\emu\\variant_data_covariants\\21L.Omicron_data.json')\n",
    "Omicron_22A_BA4 = srsly.read_json(r'C:\\Users\\ehug0006\\emu\\variant_data_covariants\\22A.Omicron_data.json')\n",
    "Omicron_22B_BA5 = srsly.read_json(r'C:\\Users\\ehug0006\\emu\\variant_data_covariants\\22B.Omicron_data.json')"
   ]
  },
  {
   "cell_type": "code",
   "execution_count": null,
   "id": "ff543d3d-23c4-4e40-af32-54032bf48360",
   "metadata": {},
   "outputs": [],
   "source": [
    "# Combine variant dictionaries into single nested dictionary\n",
    "variant_data_dict = {'Beta_20H':Beta_20H,\n",
    "                    'Alpha_20I':Alpha_20I,\n",
    "                     'Delta_21A':Delta_21A,\n",
    "                     'Delta_21I':Delta_21I,\n",
    "                     'Delta_21J': Delta_21J,\n",
    "                     'Omicron_21K_BA1': Omicron_21K_BA1,\n",
    "                     'Omicron_21L_BA2': Omicron_21L_BA2,\n",
    "                     'Omicron_22A_BA4': Omicron_22A_BA4,\n",
    "                     'Omicron_22B_BA5':Omicron_22B_BA5\n",
    "                    }"
   ]
  },
  {
   "cell_type": "code",
   "execution_count": null,
   "id": "d4cf9c03-8d24-4a48-b429-a8402faf4da7",
   "metadata": {},
   "outputs": [],
   "source": [
    "# create dataframe from nested variant dictionary\n",
    "df = pd.DataFrame()\n",
    "\n",
    "for variant,country in variant_data_dict.items():\n",
    "    for c in country:\n",
    "        new_df = pd.DataFrame(country[c])\n",
    "        new_df['country'] = c\n",
    "        new_df['variant'] = variant\n",
    "        df = pd.concat([df, new_df])\n",
    "        \n",
    "# create new variant proportion column\n",
    "df['variant_prop'] = df['cluster_sequences']/df['total_sequences']"
   ]
  },
  {
   "cell_type": "code",
   "execution_count": null,
   "id": "f878770d-3f2a-4b8d-822e-533f6d31958b",
   "metadata": {},
   "outputs": [],
   "source": [
    "# select countries\n",
    "countries = ['Malaysia', 'Philippines', 'Vietnam']\n",
    "\n",
    "df_analysis = df.loc[df['country'].isin(countries)]"
   ]
  },
  {
   "cell_type": "code",
   "execution_count": null,
   "id": "bbe04518-1507-4c1e-9abc-7c8b442a559b",
   "metadata": {},
   "outputs": [],
   "source": [
    "# identify week first time proportion goes above a threshold\n",
    "threshold = 0.01\n",
    "\n",
    "emergence_df = df_analysis.loc[df_analysis.variant_prop>threshold].groupby(['country','variant']).head(2)"
   ]
  }
 ],
 "metadata": {
  "kernelspec": {
   "display_name": "renewal",
   "language": "python",
   "name": "renewal"
  },
  "language_info": {
   "codemirror_mode": {
    "name": "ipython",
    "version": 3
   },
   "file_extension": ".py",
   "mimetype": "text/x-python",
   "name": "python",
   "nbconvert_exporter": "python",
   "pygments_lexer": "ipython3",
   "version": "3.10.14"
  }
 },
 "nbformat": 4,
 "nbformat_minor": 5
}
